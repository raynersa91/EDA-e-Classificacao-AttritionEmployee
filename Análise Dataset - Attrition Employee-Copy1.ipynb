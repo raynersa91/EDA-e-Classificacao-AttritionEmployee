{
 "cells": [
  {
   "cell_type": "markdown",
   "id": "d020ca9d",
   "metadata": {},
   "source": [
    "# EDA e Criação de um modelo de classificação para o Dataset Attrition Employee"
   ]
  },
  {
   "cell_type": "code",
   "execution_count": 127,
   "id": "bd505504",
   "metadata": {},
   "outputs": [],
   "source": [
    "# Importar bibliotecas\n",
    "\n",
    "import pandas as pd\n",
    "import numpy as np\n",
    "import matplotlib.pyplot as plt\n",
    "import seaborn as sns\n",
    "import warnings # Avisos\n",
    "warnings.filterwarnings(\"ignore\") # Ignorar avisos"
   ]
  },
  {
   "cell_type": "code",
   "execution_count": 128,
   "id": "f0829ae6",
   "metadata": {},
   "outputs": [
    {
     "data": {
      "text/html": [
       "<div>\n",
       "<style scoped>\n",
       "    .dataframe tbody tr th:only-of-type {\n",
       "        vertical-align: middle;\n",
       "    }\n",
       "\n",
       "    .dataframe tbody tr th {\n",
       "        vertical-align: top;\n",
       "    }\n",
       "\n",
       "    .dataframe thead th {\n",
       "        text-align: right;\n",
       "    }\n",
       "</style>\n",
       "<table border=\"1\" class=\"dataframe\">\n",
       "  <thead>\n",
       "    <tr style=\"text-align: right;\">\n",
       "      <th></th>\n",
       "      <th>Employee ID</th>\n",
       "      <th>Age</th>\n",
       "      <th>Gender</th>\n",
       "      <th>Years at Company</th>\n",
       "      <th>Job Role</th>\n",
       "      <th>Monthly Income</th>\n",
       "      <th>Work-Life Balance</th>\n",
       "      <th>Job Satisfaction</th>\n",
       "      <th>Performance Rating</th>\n",
       "      <th>Number of Promotions</th>\n",
       "      <th>...</th>\n",
       "      <th>Number of Dependents</th>\n",
       "      <th>Job Level</th>\n",
       "      <th>Company Size</th>\n",
       "      <th>Company Tenure</th>\n",
       "      <th>Remote Work</th>\n",
       "      <th>Leadership Opportunities</th>\n",
       "      <th>Innovation Opportunities</th>\n",
       "      <th>Company Reputation</th>\n",
       "      <th>Employee Recognition</th>\n",
       "      <th>Attrition</th>\n",
       "    </tr>\n",
       "  </thead>\n",
       "  <tbody>\n",
       "    <tr>\n",
       "      <th>0</th>\n",
       "      <td>8410</td>\n",
       "      <td>31</td>\n",
       "      <td>Male</td>\n",
       "      <td>19</td>\n",
       "      <td>Education</td>\n",
       "      <td>5390</td>\n",
       "      <td>Excellent</td>\n",
       "      <td>Medium</td>\n",
       "      <td>Average</td>\n",
       "      <td>2</td>\n",
       "      <td>...</td>\n",
       "      <td>0</td>\n",
       "      <td>Mid</td>\n",
       "      <td>Medium</td>\n",
       "      <td>89</td>\n",
       "      <td>No</td>\n",
       "      <td>No</td>\n",
       "      <td>No</td>\n",
       "      <td>Excellent</td>\n",
       "      <td>Medium</td>\n",
       "      <td>Stayed</td>\n",
       "    </tr>\n",
       "    <tr>\n",
       "      <th>1</th>\n",
       "      <td>64756</td>\n",
       "      <td>59</td>\n",
       "      <td>Female</td>\n",
       "      <td>4</td>\n",
       "      <td>Media</td>\n",
       "      <td>5534</td>\n",
       "      <td>Poor</td>\n",
       "      <td>High</td>\n",
       "      <td>Low</td>\n",
       "      <td>3</td>\n",
       "      <td>...</td>\n",
       "      <td>3</td>\n",
       "      <td>Mid</td>\n",
       "      <td>Medium</td>\n",
       "      <td>21</td>\n",
       "      <td>No</td>\n",
       "      <td>No</td>\n",
       "      <td>No</td>\n",
       "      <td>Fair</td>\n",
       "      <td>Low</td>\n",
       "      <td>Stayed</td>\n",
       "    </tr>\n",
       "    <tr>\n",
       "      <th>2</th>\n",
       "      <td>30257</td>\n",
       "      <td>24</td>\n",
       "      <td>Female</td>\n",
       "      <td>10</td>\n",
       "      <td>Healthcare</td>\n",
       "      <td>8159</td>\n",
       "      <td>Good</td>\n",
       "      <td>High</td>\n",
       "      <td>Low</td>\n",
       "      <td>0</td>\n",
       "      <td>...</td>\n",
       "      <td>3</td>\n",
       "      <td>Mid</td>\n",
       "      <td>Medium</td>\n",
       "      <td>74</td>\n",
       "      <td>No</td>\n",
       "      <td>No</td>\n",
       "      <td>No</td>\n",
       "      <td>Poor</td>\n",
       "      <td>Low</td>\n",
       "      <td>Stayed</td>\n",
       "    </tr>\n",
       "    <tr>\n",
       "      <th>3</th>\n",
       "      <td>65791</td>\n",
       "      <td>36</td>\n",
       "      <td>Female</td>\n",
       "      <td>7</td>\n",
       "      <td>Education</td>\n",
       "      <td>3989</td>\n",
       "      <td>Good</td>\n",
       "      <td>High</td>\n",
       "      <td>High</td>\n",
       "      <td>1</td>\n",
       "      <td>...</td>\n",
       "      <td>2</td>\n",
       "      <td>Mid</td>\n",
       "      <td>Small</td>\n",
       "      <td>50</td>\n",
       "      <td>Yes</td>\n",
       "      <td>No</td>\n",
       "      <td>No</td>\n",
       "      <td>Good</td>\n",
       "      <td>Medium</td>\n",
       "      <td>Stayed</td>\n",
       "    </tr>\n",
       "    <tr>\n",
       "      <th>4</th>\n",
       "      <td>65026</td>\n",
       "      <td>56</td>\n",
       "      <td>Male</td>\n",
       "      <td>41</td>\n",
       "      <td>Education</td>\n",
       "      <td>4821</td>\n",
       "      <td>Fair</td>\n",
       "      <td>Very High</td>\n",
       "      <td>Average</td>\n",
       "      <td>0</td>\n",
       "      <td>...</td>\n",
       "      <td>0</td>\n",
       "      <td>Senior</td>\n",
       "      <td>Medium</td>\n",
       "      <td>68</td>\n",
       "      <td>No</td>\n",
       "      <td>No</td>\n",
       "      <td>No</td>\n",
       "      <td>Fair</td>\n",
       "      <td>Medium</td>\n",
       "      <td>Stayed</td>\n",
       "    </tr>\n",
       "  </tbody>\n",
       "</table>\n",
       "<p>5 rows × 24 columns</p>\n",
       "</div>"
      ],
      "text/plain": [
       "   Employee ID  Age  Gender  Years at Company    Job Role  Monthly Income  \\\n",
       "0         8410   31    Male                19   Education            5390   \n",
       "1        64756   59  Female                 4       Media            5534   \n",
       "2        30257   24  Female                10  Healthcare            8159   \n",
       "3        65791   36  Female                 7   Education            3989   \n",
       "4        65026   56    Male                41   Education            4821   \n",
       "\n",
       "  Work-Life Balance Job Satisfaction Performance Rating  Number of Promotions  \\\n",
       "0         Excellent           Medium            Average                     2   \n",
       "1              Poor             High                Low                     3   \n",
       "2              Good             High                Low                     0   \n",
       "3              Good             High               High                     1   \n",
       "4              Fair        Very High            Average                     0   \n",
       "\n",
       "   ... Number of Dependents  Job Level Company Size Company Tenure  \\\n",
       "0  ...                    0        Mid       Medium             89   \n",
       "1  ...                    3        Mid       Medium             21   \n",
       "2  ...                    3        Mid       Medium             74   \n",
       "3  ...                    2        Mid        Small             50   \n",
       "4  ...                    0     Senior       Medium             68   \n",
       "\n",
       "   Remote Work Leadership Opportunities Innovation Opportunities  \\\n",
       "0           No                       No                       No   \n",
       "1           No                       No                       No   \n",
       "2           No                       No                       No   \n",
       "3          Yes                       No                       No   \n",
       "4           No                       No                       No   \n",
       "\n",
       "   Company Reputation Employee Recognition Attrition  \n",
       "0           Excellent               Medium    Stayed  \n",
       "1                Fair                  Low    Stayed  \n",
       "2                Poor                  Low    Stayed  \n",
       "3                Good               Medium    Stayed  \n",
       "4                Fair               Medium    Stayed  \n",
       "\n",
       "[5 rows x 24 columns]"
      ]
     },
     "execution_count": 128,
     "metadata": {},
     "output_type": "execute_result"
    }
   ],
   "source": [
    "# Importar dataset e visualizar as primeiras linhas\n",
    "\n",
    "df = pd.read_csv(r'C:\\Users\\rayners\\Desktop\\Datasets\\Employee Atrittion\\train.csv')\n",
    "df.head()"
   ]
  },
  {
   "cell_type": "raw",
   "id": "e44008a6",
   "metadata": {},
   "source": [
    "Dicionário das features\n",
    "\n",
    "FEATURES:\n",
    "\n",
    "Employee ID: A unique identifier assigned to each employee.\n",
    "Age: The age of the employee, ranging from 18 to 60 years.\n",
    "Gender: The gender of the employee\n",
    "Years at Company: The number of years the employee has been working at the company.\n",
    "Monthly Income: The monthly salary of the employee, in dollars.\n",
    "Job Role: The department or role the employee works in, encoded into categories such as Finance, Healthcare, Technology, Education, and Media.\n",
    "Work-Life Balance: The employee's perceived balance between work and personal life, (Poor, Below Average, Good, Excellent)\n",
    "Job Satisfaction: The employee's satisfaction with their job: (Very Low, Low, Medium, High)\n",
    "Performance Rating: The employee's performance rating: (Low, Below Average, Average, High)\n",
    "Number of Promotions: The total number of promotions the employee has received.\n",
    "Distance from Home: The distance between the employee's home and workplace, in miles.\n",
    "Education Level: The highest education level attained by the employee: (High School, Associate Degree, Bachelor’s Degree, Master’s Degree, PhD)\n",
    "Marital Status: The marital status of the employee: (Divorced, Married, Single)\n",
    "Job Level: The job level of the employee: (Entry, Mid, Senior)\n",
    "Company Size: The size of the company the employee works for: (Small,Medium,Large)\n",
    "Company Tenure: The total number of years the employee has been working in the industry.\n",
    "Remote Work: Whether the employee works remotely: (Yes or No)\n",
    "Leadership Opportunities: Whether the employee has leadership opportunities: (Yes or No)\n",
    "Innovation Opportunities: Whether the employee has opportunities for innovation: (Yes or No)\n",
    "Company Reputation: The employee's perception of the company's reputation: (Very Poor, Poor,Good, Excellent)\n",
    "Employee Recognition: The level of recognition the employee receives:(Very Low, Low, Medium, High)\n",
    "Attrition: Whether the employee has left the company, encoded as 0 (stayed) and 1 (Left)."
   ]
  },
  {
   "cell_type": "code",
   "execution_count": 129,
   "id": "f21985a9",
   "metadata": {},
   "outputs": [
    {
     "data": {
      "text/plain": [
       "Index(['Employee ID', 'Age', 'Gender', 'Years at Company', 'Job Role',\n",
       "       'Monthly Income', 'Work-Life Balance', 'Job Satisfaction',\n",
       "       'Performance Rating', 'Number of Promotions', 'Overtime',\n",
       "       'Distance from Home', 'Education Level', 'Marital Status',\n",
       "       'Number of Dependents', 'Job Level', 'Company Size', 'Company Tenure',\n",
       "       'Remote Work', 'Leadership Opportunities', 'Innovation Opportunities',\n",
       "       'Company Reputation', 'Employee Recognition', 'Attrition'],\n",
       "      dtype='object')"
      ]
     },
     "execution_count": 129,
     "metadata": {},
     "output_type": "execute_result"
    }
   ],
   "source": [
    "# Visualizar as colunas\n",
    "\n",
    "df.columns"
   ]
  },
  {
   "cell_type": "code",
   "execution_count": 130,
   "id": "1c6ae817",
   "metadata": {},
   "outputs": [
    {
     "data": {
      "text/plain": [
       "(59598, 24)"
      ]
     },
     "execution_count": 130,
     "metadata": {},
     "output_type": "execute_result"
    }
   ],
   "source": [
    "# Visualizar a quantidade de linhas e colunas do dataset\n",
    "\n",
    "df.shape"
   ]
  },
  {
   "cell_type": "code",
   "execution_count": 131,
   "id": "93ffc08b",
   "metadata": {},
   "outputs": [
    {
     "name": "stdout",
     "output_type": "stream",
     "text": [
      "<class 'pandas.core.frame.DataFrame'>\n",
      "RangeIndex: 59598 entries, 0 to 59597\n",
      "Data columns (total 24 columns):\n",
      " #   Column                    Non-Null Count  Dtype \n",
      "---  ------                    --------------  ----- \n",
      " 0   Employee ID               59598 non-null  int64 \n",
      " 1   Age                       59598 non-null  int64 \n",
      " 2   Gender                    59598 non-null  object\n",
      " 3   Years at Company          59598 non-null  int64 \n",
      " 4   Job Role                  59598 non-null  object\n",
      " 5   Monthly Income            59598 non-null  int64 \n",
      " 6   Work-Life Balance         59598 non-null  object\n",
      " 7   Job Satisfaction          59598 non-null  object\n",
      " 8   Performance Rating        59598 non-null  object\n",
      " 9   Number of Promotions      59598 non-null  int64 \n",
      " 10  Overtime                  59598 non-null  object\n",
      " 11  Distance from Home        59598 non-null  int64 \n",
      " 12  Education Level           59598 non-null  object\n",
      " 13  Marital Status            59598 non-null  object\n",
      " 14  Number of Dependents      59598 non-null  int64 \n",
      " 15  Job Level                 59598 non-null  object\n",
      " 16  Company Size              59598 non-null  object\n",
      " 17  Company Tenure            59598 non-null  int64 \n",
      " 18  Remote Work               59598 non-null  object\n",
      " 19  Leadership Opportunities  59598 non-null  object\n",
      " 20  Innovation Opportunities  59598 non-null  object\n",
      " 21  Company Reputation        59598 non-null  object\n",
      " 22  Employee Recognition      59598 non-null  object\n",
      " 23  Attrition                 59598 non-null  object\n",
      "dtypes: int64(8), object(16)\n",
      "memory usage: 10.9+ MB\n"
     ]
    }
   ],
   "source": [
    "# Visulizar as informações de colunas nulas e tipo dos dados\n",
    "\n",
    "df.info()"
   ]
  },
  {
   "cell_type": "code",
   "execution_count": 132,
   "id": "3368c64b",
   "metadata": {},
   "outputs": [],
   "source": [
    "# Drop coluna employee ID\n",
    "\n",
    "df.drop('Employee ID',axis=1,inplace=True)"
   ]
  },
  {
   "cell_type": "code",
   "execution_count": 133,
   "id": "94f7175d",
   "metadata": {},
   "outputs": [
    {
     "data": {
      "text/html": [
       "<div>\n",
       "<style scoped>\n",
       "    .dataframe tbody tr th:only-of-type {\n",
       "        vertical-align: middle;\n",
       "    }\n",
       "\n",
       "    .dataframe tbody tr th {\n",
       "        vertical-align: top;\n",
       "    }\n",
       "\n",
       "    .dataframe thead th {\n",
       "        text-align: right;\n",
       "    }\n",
       "</style>\n",
       "<table border=\"1\" class=\"dataframe\">\n",
       "  <thead>\n",
       "    <tr style=\"text-align: right;\">\n",
       "      <th></th>\n",
       "      <th>Age</th>\n",
       "      <th>Gender</th>\n",
       "      <th>Years at Company</th>\n",
       "      <th>Job Role</th>\n",
       "      <th>Monthly Income</th>\n",
       "      <th>Work-Life Balance</th>\n",
       "      <th>Job Satisfaction</th>\n",
       "      <th>Performance Rating</th>\n",
       "      <th>Number of Promotions</th>\n",
       "      <th>Overtime</th>\n",
       "      <th>...</th>\n",
       "      <th>Number of Dependents</th>\n",
       "      <th>Job Level</th>\n",
       "      <th>Company Size</th>\n",
       "      <th>Company Tenure</th>\n",
       "      <th>Remote Work</th>\n",
       "      <th>Leadership Opportunities</th>\n",
       "      <th>Innovation Opportunities</th>\n",
       "      <th>Company Reputation</th>\n",
       "      <th>Employee Recognition</th>\n",
       "      <th>Attrition</th>\n",
       "    </tr>\n",
       "  </thead>\n",
       "  <tbody>\n",
       "    <tr>\n",
       "      <th>0</th>\n",
       "      <td>31</td>\n",
       "      <td>Male</td>\n",
       "      <td>19</td>\n",
       "      <td>Education</td>\n",
       "      <td>5390</td>\n",
       "      <td>Excellent</td>\n",
       "      <td>Medium</td>\n",
       "      <td>Average</td>\n",
       "      <td>2</td>\n",
       "      <td>No</td>\n",
       "      <td>...</td>\n",
       "      <td>0</td>\n",
       "      <td>Mid</td>\n",
       "      <td>Medium</td>\n",
       "      <td>89</td>\n",
       "      <td>No</td>\n",
       "      <td>No</td>\n",
       "      <td>No</td>\n",
       "      <td>Excellent</td>\n",
       "      <td>Medium</td>\n",
       "      <td>Stayed</td>\n",
       "    </tr>\n",
       "    <tr>\n",
       "      <th>1</th>\n",
       "      <td>59</td>\n",
       "      <td>Female</td>\n",
       "      <td>4</td>\n",
       "      <td>Media</td>\n",
       "      <td>5534</td>\n",
       "      <td>Poor</td>\n",
       "      <td>High</td>\n",
       "      <td>Low</td>\n",
       "      <td>3</td>\n",
       "      <td>No</td>\n",
       "      <td>...</td>\n",
       "      <td>3</td>\n",
       "      <td>Mid</td>\n",
       "      <td>Medium</td>\n",
       "      <td>21</td>\n",
       "      <td>No</td>\n",
       "      <td>No</td>\n",
       "      <td>No</td>\n",
       "      <td>Fair</td>\n",
       "      <td>Low</td>\n",
       "      <td>Stayed</td>\n",
       "    </tr>\n",
       "    <tr>\n",
       "      <th>2</th>\n",
       "      <td>24</td>\n",
       "      <td>Female</td>\n",
       "      <td>10</td>\n",
       "      <td>Healthcare</td>\n",
       "      <td>8159</td>\n",
       "      <td>Good</td>\n",
       "      <td>High</td>\n",
       "      <td>Low</td>\n",
       "      <td>0</td>\n",
       "      <td>No</td>\n",
       "      <td>...</td>\n",
       "      <td>3</td>\n",
       "      <td>Mid</td>\n",
       "      <td>Medium</td>\n",
       "      <td>74</td>\n",
       "      <td>No</td>\n",
       "      <td>No</td>\n",
       "      <td>No</td>\n",
       "      <td>Poor</td>\n",
       "      <td>Low</td>\n",
       "      <td>Stayed</td>\n",
       "    </tr>\n",
       "    <tr>\n",
       "      <th>3</th>\n",
       "      <td>36</td>\n",
       "      <td>Female</td>\n",
       "      <td>7</td>\n",
       "      <td>Education</td>\n",
       "      <td>3989</td>\n",
       "      <td>Good</td>\n",
       "      <td>High</td>\n",
       "      <td>High</td>\n",
       "      <td>1</td>\n",
       "      <td>No</td>\n",
       "      <td>...</td>\n",
       "      <td>2</td>\n",
       "      <td>Mid</td>\n",
       "      <td>Small</td>\n",
       "      <td>50</td>\n",
       "      <td>Yes</td>\n",
       "      <td>No</td>\n",
       "      <td>No</td>\n",
       "      <td>Good</td>\n",
       "      <td>Medium</td>\n",
       "      <td>Stayed</td>\n",
       "    </tr>\n",
       "    <tr>\n",
       "      <th>4</th>\n",
       "      <td>56</td>\n",
       "      <td>Male</td>\n",
       "      <td>41</td>\n",
       "      <td>Education</td>\n",
       "      <td>4821</td>\n",
       "      <td>Fair</td>\n",
       "      <td>Very High</td>\n",
       "      <td>Average</td>\n",
       "      <td>0</td>\n",
       "      <td>Yes</td>\n",
       "      <td>...</td>\n",
       "      <td>0</td>\n",
       "      <td>Senior</td>\n",
       "      <td>Medium</td>\n",
       "      <td>68</td>\n",
       "      <td>No</td>\n",
       "      <td>No</td>\n",
       "      <td>No</td>\n",
       "      <td>Fair</td>\n",
       "      <td>Medium</td>\n",
       "      <td>Stayed</td>\n",
       "    </tr>\n",
       "  </tbody>\n",
       "</table>\n",
       "<p>5 rows × 23 columns</p>\n",
       "</div>"
      ],
      "text/plain": [
       "   Age  Gender  Years at Company    Job Role  Monthly Income  \\\n",
       "0   31    Male                19   Education            5390   \n",
       "1   59  Female                 4       Media            5534   \n",
       "2   24  Female                10  Healthcare            8159   \n",
       "3   36  Female                 7   Education            3989   \n",
       "4   56    Male                41   Education            4821   \n",
       "\n",
       "  Work-Life Balance Job Satisfaction Performance Rating  Number of Promotions  \\\n",
       "0         Excellent           Medium            Average                     2   \n",
       "1              Poor             High                Low                     3   \n",
       "2              Good             High                Low                     0   \n",
       "3              Good             High               High                     1   \n",
       "4              Fair        Very High            Average                     0   \n",
       "\n",
       "  Overtime  ...  Number of Dependents Job Level Company Size  Company Tenure  \\\n",
       "0       No  ...                     0       Mid       Medium              89   \n",
       "1       No  ...                     3       Mid       Medium              21   \n",
       "2       No  ...                     3       Mid       Medium              74   \n",
       "3       No  ...                     2       Mid        Small              50   \n",
       "4      Yes  ...                     0    Senior       Medium              68   \n",
       "\n",
       "  Remote Work Leadership Opportunities  Innovation Opportunities  \\\n",
       "0          No                       No                        No   \n",
       "1          No                       No                        No   \n",
       "2          No                       No                        No   \n",
       "3         Yes                       No                        No   \n",
       "4          No                       No                        No   \n",
       "\n",
       "  Company Reputation Employee Recognition Attrition  \n",
       "0          Excellent               Medium    Stayed  \n",
       "1               Fair                  Low    Stayed  \n",
       "2               Poor                  Low    Stayed  \n",
       "3               Good               Medium    Stayed  \n",
       "4               Fair               Medium    Stayed  \n",
       "\n",
       "[5 rows x 23 columns]"
      ]
     },
     "execution_count": 133,
     "metadata": {},
     "output_type": "execute_result"
    }
   ],
   "source": [
    "# Visualizar os dado pós drop do ID\n",
    "\n",
    "df.head()"
   ]
  },
  {
   "cell_type": "code",
   "execution_count": 134,
   "id": "bbb2906e",
   "metadata": {},
   "outputs": [
    {
     "data": {
      "text/html": [
       "<div>\n",
       "<style scoped>\n",
       "    .dataframe tbody tr th:only-of-type {\n",
       "        vertical-align: middle;\n",
       "    }\n",
       "\n",
       "    .dataframe tbody tr th {\n",
       "        vertical-align: top;\n",
       "    }\n",
       "\n",
       "    .dataframe thead th {\n",
       "        text-align: right;\n",
       "    }\n",
       "</style>\n",
       "<table border=\"1\" class=\"dataframe\">\n",
       "  <thead>\n",
       "    <tr style=\"text-align: right;\">\n",
       "      <th></th>\n",
       "      <th>Age</th>\n",
       "      <th>Years at Company</th>\n",
       "      <th>Monthly Income</th>\n",
       "      <th>Number of Promotions</th>\n",
       "      <th>Distance from Home</th>\n",
       "      <th>Number of Dependents</th>\n",
       "      <th>Company Tenure</th>\n",
       "    </tr>\n",
       "  </thead>\n",
       "  <tbody>\n",
       "    <tr>\n",
       "      <th>count</th>\n",
       "      <td>59598.000000</td>\n",
       "      <td>59598.000000</td>\n",
       "      <td>59598.000000</td>\n",
       "      <td>59598.000000</td>\n",
       "      <td>59598.000000</td>\n",
       "      <td>59598.000000</td>\n",
       "      <td>59598.000000</td>\n",
       "    </tr>\n",
       "    <tr>\n",
       "      <th>mean</th>\n",
       "      <td>38.565875</td>\n",
       "      <td>15.753901</td>\n",
       "      <td>7302.397983</td>\n",
       "      <td>0.832578</td>\n",
       "      <td>50.007651</td>\n",
       "      <td>1.648075</td>\n",
       "      <td>55.758415</td>\n",
       "    </tr>\n",
       "    <tr>\n",
       "      <th>std</th>\n",
       "      <td>12.079673</td>\n",
       "      <td>11.245981</td>\n",
       "      <td>2151.457423</td>\n",
       "      <td>0.994991</td>\n",
       "      <td>28.466459</td>\n",
       "      <td>1.555689</td>\n",
       "      <td>25.411090</td>\n",
       "    </tr>\n",
       "    <tr>\n",
       "      <th>min</th>\n",
       "      <td>18.000000</td>\n",
       "      <td>1.000000</td>\n",
       "      <td>1316.000000</td>\n",
       "      <td>0.000000</td>\n",
       "      <td>1.000000</td>\n",
       "      <td>0.000000</td>\n",
       "      <td>2.000000</td>\n",
       "    </tr>\n",
       "    <tr>\n",
       "      <th>25%</th>\n",
       "      <td>28.000000</td>\n",
       "      <td>7.000000</td>\n",
       "      <td>5658.000000</td>\n",
       "      <td>0.000000</td>\n",
       "      <td>25.000000</td>\n",
       "      <td>0.000000</td>\n",
       "      <td>36.000000</td>\n",
       "    </tr>\n",
       "    <tr>\n",
       "      <th>50%</th>\n",
       "      <td>39.000000</td>\n",
       "      <td>13.000000</td>\n",
       "      <td>7354.000000</td>\n",
       "      <td>1.000000</td>\n",
       "      <td>50.000000</td>\n",
       "      <td>1.000000</td>\n",
       "      <td>56.000000</td>\n",
       "    </tr>\n",
       "    <tr>\n",
       "      <th>75%</th>\n",
       "      <td>49.000000</td>\n",
       "      <td>23.000000</td>\n",
       "      <td>8880.000000</td>\n",
       "      <td>2.000000</td>\n",
       "      <td>75.000000</td>\n",
       "      <td>3.000000</td>\n",
       "      <td>76.000000</td>\n",
       "    </tr>\n",
       "    <tr>\n",
       "      <th>max</th>\n",
       "      <td>59.000000</td>\n",
       "      <td>51.000000</td>\n",
       "      <td>16149.000000</td>\n",
       "      <td>4.000000</td>\n",
       "      <td>99.000000</td>\n",
       "      <td>6.000000</td>\n",
       "      <td>128.000000</td>\n",
       "    </tr>\n",
       "  </tbody>\n",
       "</table>\n",
       "</div>"
      ],
      "text/plain": [
       "                Age  Years at Company  Monthly Income  Number of Promotions  \\\n",
       "count  59598.000000      59598.000000    59598.000000          59598.000000   \n",
       "mean      38.565875         15.753901     7302.397983              0.832578   \n",
       "std       12.079673         11.245981     2151.457423              0.994991   \n",
       "min       18.000000          1.000000     1316.000000              0.000000   \n",
       "25%       28.000000          7.000000     5658.000000              0.000000   \n",
       "50%       39.000000         13.000000     7354.000000              1.000000   \n",
       "75%       49.000000         23.000000     8880.000000              2.000000   \n",
       "max       59.000000         51.000000    16149.000000              4.000000   \n",
       "\n",
       "       Distance from Home  Number of Dependents  Company Tenure  \n",
       "count        59598.000000          59598.000000    59598.000000  \n",
       "mean            50.007651              1.648075       55.758415  \n",
       "std             28.466459              1.555689       25.411090  \n",
       "min              1.000000              0.000000        2.000000  \n",
       "25%             25.000000              0.000000       36.000000  \n",
       "50%             50.000000              1.000000       56.000000  \n",
       "75%             75.000000              3.000000       76.000000  \n",
       "max             99.000000              6.000000      128.000000  "
      ]
     },
     "execution_count": 134,
     "metadata": {},
     "output_type": "execute_result"
    }
   ],
   "source": [
    "# Visualizar dados estatísticos das variáveis númericas\n",
    "\n",
    "df.describe()"
   ]
  },
  {
   "cell_type": "code",
   "execution_count": 135,
   "id": "8c419859",
   "metadata": {},
   "outputs": [
    {
     "data": {
      "text/html": [
       "<div>\n",
       "<style scoped>\n",
       "    .dataframe tbody tr th:only-of-type {\n",
       "        vertical-align: middle;\n",
       "    }\n",
       "\n",
       "    .dataframe tbody tr th {\n",
       "        vertical-align: top;\n",
       "    }\n",
       "\n",
       "    .dataframe thead th {\n",
       "        text-align: right;\n",
       "    }\n",
       "</style>\n",
       "<table border=\"1\" class=\"dataframe\">\n",
       "  <thead>\n",
       "    <tr style=\"text-align: right;\">\n",
       "      <th></th>\n",
       "      <th>Age</th>\n",
       "      <th>Years at Company</th>\n",
       "      <th>Monthly Income</th>\n",
       "      <th>Number of Promotions</th>\n",
       "      <th>Distance from Home</th>\n",
       "      <th>Number of Dependents</th>\n",
       "      <th>Company Tenure</th>\n",
       "    </tr>\n",
       "  </thead>\n",
       "  <tbody>\n",
       "    <tr>\n",
       "      <th>0</th>\n",
       "      <td>31</td>\n",
       "      <td>19</td>\n",
       "      <td>5390</td>\n",
       "      <td>2</td>\n",
       "      <td>22</td>\n",
       "      <td>0</td>\n",
       "      <td>89</td>\n",
       "    </tr>\n",
       "    <tr>\n",
       "      <th>1</th>\n",
       "      <td>59</td>\n",
       "      <td>4</td>\n",
       "      <td>5534</td>\n",
       "      <td>3</td>\n",
       "      <td>21</td>\n",
       "      <td>3</td>\n",
       "      <td>21</td>\n",
       "    </tr>\n",
       "    <tr>\n",
       "      <th>2</th>\n",
       "      <td>24</td>\n",
       "      <td>10</td>\n",
       "      <td>8159</td>\n",
       "      <td>0</td>\n",
       "      <td>11</td>\n",
       "      <td>3</td>\n",
       "      <td>74</td>\n",
       "    </tr>\n",
       "    <tr>\n",
       "      <th>3</th>\n",
       "      <td>36</td>\n",
       "      <td>7</td>\n",
       "      <td>3989</td>\n",
       "      <td>1</td>\n",
       "      <td>27</td>\n",
       "      <td>2</td>\n",
       "      <td>50</td>\n",
       "    </tr>\n",
       "    <tr>\n",
       "      <th>4</th>\n",
       "      <td>56</td>\n",
       "      <td>41</td>\n",
       "      <td>4821</td>\n",
       "      <td>0</td>\n",
       "      <td>71</td>\n",
       "      <td>0</td>\n",
       "      <td>68</td>\n",
       "    </tr>\n",
       "  </tbody>\n",
       "</table>\n",
       "</div>"
      ],
      "text/plain": [
       "   Age  Years at Company  Monthly Income  Number of Promotions  \\\n",
       "0   31                19            5390                     2   \n",
       "1   59                 4            5534                     3   \n",
       "2   24                10            8159                     0   \n",
       "3   36                 7            3989                     1   \n",
       "4   56                41            4821                     0   \n",
       "\n",
       "   Distance from Home  Number of Dependents  Company Tenure  \n",
       "0                  22                     0              89  \n",
       "1                  21                     3              21  \n",
       "2                  11                     3              74  \n",
       "3                  27                     2              50  \n",
       "4                  71                     0              68  "
      ]
     },
     "execution_count": 135,
     "metadata": {},
     "output_type": "execute_result"
    }
   ],
   "source": [
    "# Criar um novo Df incluíndo apenas as colunas númericas\n",
    "\n",
    "df2 = df.select_dtypes(include='int64')\n",
    "df2.head()"
   ]
  },
  {
   "cell_type": "code",
   "execution_count": 136,
   "id": "9a4349a6",
   "metadata": {
    "scrolled": false
   },
   "outputs": [
    {
     "data": {
      "image/png": "[encoded data removed]",
      "text/plain": [
       "<Figure size 640x480 with 1 Axes>"
      ]
     },
     "metadata": {},
     "output_type": "display_data"
    },
    {
     "data": {
      "text/plain": [
       "<Figure size 400x400 with 0 Axes>"
      ]
     },
     "metadata": {},
     "output_type": "display_data"
    },
    {
     "data": {
      "image/png": "[encoded data removed]",
      "text/plain": [
       "<Figure size 640x480 with 1 Axes>"
      ]
     },
     "metadata": {},
     "output_type": "display_data"
    },
    {
     "data": {
      "text/plain": [
       "<Figure size 400x400 with 0 Axes>"
      ]
     },
     "metadata": {},
     "output_type": "display_data"
    },
    {
     "data": {
      "image/png": "[encoded data removed]",
      "text/plain": [
       "<Figure size 640x480 with 1 Axes>"
      ]
     },
     "metadata": {},
     "output_type": "display_data"
    },
    {
     "data": {
      "text/plain": [
       "<Figure size 400x400 with 0 Axes>"
      ]
     },
     "metadata": {},
     "output_type": "display_data"
    },
    {
     "data": {
      "image/png": "[encoded data removed]",
      "text/plain": [
       "<Figure size 640x480 with 1 Axes>"
      ]
     },
     "metadata": {},
     "output_type": "display_data"
    },
    {
     "data": {
      "text/plain": [
       "<Figure size 400x400 with 0 Axes>"
      ]
     },
     "metadata": {},
     "output_type": "display_data"
    },
    {
     "data": {
      "image/png": "[encoded data removed]",
      "text/plain": [
       "<Figure size 640x480 with 1 Axes>"
      ]
     },
     "metadata": {},
     "output_type": "display_data"
    },
    {
     "data": {
      "text/plain": [
       "<Figure size 400x400 with 0 Axes>"
      ]
     },
     "metadata": {},
     "output_type": "display_data"
    },
    {
     "data": {
      "image/png": "[encoded data removed]",
      "text/plain": [
       "<Figure size 640x480 with 1 Axes>"
      ]
     },
     "metadata": {},
     "output_type": "display_data"
    },
    {
     "data": {
      "text/plain": [
       "<Figure size 400x400 with 0 Axes>"
      ]
     },
     "metadata": {},
     "output_type": "display_data"
    },
    {
     "data": {
      "image/png": "[encoded data removed]",
      "text/plain": [
       "<Figure size 640x480 with 1 Axes>"
      ]
     },
     "metadata": {},
     "output_type": "display_data"
    },
    {
     "data": {
      "text/plain": [
       "<Figure size 400x400 with 0 Axes>"
      ]
     },
     "metadata": {},
     "output_type": "display_data"
    }
   ],
   "source": [
    "# Visualizar as colunas númericas em Boxplot\n",
    "\n",
    "for column in df2.columns:\n",
    "    sns.boxplot(df2[column], palette=\"Set2\")\n",
    "    sns.set(style=\"whitegrid\")\n",
    "    sns.despine(left=True, bottom=True)\n",
    "    plt.title(column)\n",
    "    plt.figure(figsize=(4,4))\n",
    "    plt.show()"
   ]
  },
  {
   "cell_type": "code",
   "execution_count": 137,
   "id": "35f3d71d",
   "metadata": {
    "scrolled": false
   },
   "outputs": [
    {
     "data": {
      "image/png": "[encoded data removed]",
      "text/plain": [
       "<Figure size 640x480 with 1 Axes>"
      ]
     },
     "metadata": {},
     "output_type": "display_data"
    },
    {
     "data": {
      "text/plain": [
       "<Figure size 400x400 with 0 Axes>"
      ]
     },
     "metadata": {},
     "output_type": "display_data"
    },
    {
     "data": {
      "image/png": "[encoded data removed]",
      "text/plain": [
       "<Figure size 640x480 with 1 Axes>"
      ]
     },
     "metadata": {},
     "output_type": "display_data"
    },
    {
     "data": {
      "text/plain": [
       "<Figure size 400x400 with 0 Axes>"
      ]
     },
     "metadata": {},
     "output_type": "display_data"
    },
    {
     "data": {
      "image/png": "[encoded data removed]",
      "text/plain": [
       "<Figure size 640x480 with 1 Axes>"
      ]
     },
     "metadata": {},
     "output_type": "display_data"
    },
    {
     "data": {
      "text/plain": [
       "<Figure size 400x400 with 0 Axes>"
      ]
     },
     "metadata": {},
     "output_type": "display_data"
    },
    {
     "data": {
      "image/png": "[encoded data removed]",
      "text/plain": [
       "<Figure size 640x480 with 1 Axes>"
      ]
     },
     "metadata": {},
     "output_type": "display_data"
    },
    {
     "data": {
      "text/plain": [
       "<Figure size 400x400 with 0 Axes>"
      ]
     },
     "metadata": {},
     "output_type": "display_data"
    },
    {
     "data": {
      "image/png": "[encoded data removed]",
      "text/plain": [
       "<Figure size 640x480 with 1 Axes>"
      ]
     },
     "metadata": {},
     "output_type": "display_data"
    },
    {
     "data": {
      "text/plain": [
       "<Figure size 400x400 with 0 Axes>"
      ]
     },
     "metadata": {},
     "output_type": "display_data"
    },
    {
     "data": {
      "image/png": "[encoded data removed]",
      "text/plain": [
       "<Figure size 640x480 with 1 Axes>"
      ]
     },
     "metadata": {},
     "output_type": "display_data"
    },
    {
     "data": {
      "text/plain": [
       "<Figure size 400x400 with 0 Axes>"
      ]
     },
     "metadata": {},
     "output_type": "display_data"
    },
    {
     "data": {
      "image/png": "[encoded data removed]",
      "text/plain": [
       "<Figure size 640x480 with 1 Axes>"
      ]
     },
     "metadata": {},
     "output_type": "display_data"
    },
    {
     "data": {
      "text/plain": [
       "<Figure size 400x400 with 0 Axes>"
      ]
     },
     "metadata": {},
     "output_type": "display_data"
    }
   ],
   "source": [
    "# Visualizar as variáveis númericas em Histograma\n",
    "\n",
    "for column in df2.columns:\n",
    "    sns.histplot(df2[column], bins=20, kde=True, color='skyblue', edgecolor='black', alpha=0.7)\n",
    "    sns.set(style=\"whitegrid\")\n",
    "    plt.title(column)\n",
    "    plt.figure(figsize=(4,4))\n",
    "    plt.show()"
   ]
  },
  {
   "cell_type": "code",
   "execution_count": 138,
   "id": "352325e6",
   "metadata": {},
   "outputs": [
    {
     "data": {
      "text/plain": [
       "Stayed    31260\n",
       "Left      28338\n",
       "Name: Attrition, dtype: int64"
      ]
     },
     "execution_count": 138,
     "metadata": {},
     "output_type": "execute_result"
    }
   ],
   "source": [
    "# Analisar a quantidade de Funcionários que Permaneceram (Stayed) e Saíram (Left) da empresa\n",
    "\n",
    "df['Attrition'].value_counts()"
   ]
  },
  {
   "cell_type": "code",
   "execution_count": 139,
   "id": "cf4f7d76",
   "metadata": {},
   "outputs": [
    {
     "name": "stdout",
     "output_type": "stream",
     "text": [
      "52.45\n"
     ]
    }
   ],
   "source": [
    "# Analisar o percentual de clientes que Permaneceram na empresa\n",
    "\n",
    "porcentagem_stayed = df[df['Attrition'] == \"Stayed\"].value_counts().sum() / df['Attrition'].value_counts().sum() * 100\n",
    "porcentagem_stayed = round(porcentagem_stayed,2)\n",
    "print(porcentagem_stayed)"
   ]
  },
  {
   "cell_type": "code",
   "execution_count": 140,
   "id": "a6df441e",
   "metadata": {
    "scrolled": true
   },
   "outputs": [
    {
     "name": "stdout",
     "output_type": "stream",
     "text": [
      "   Age Age Group\n",
      "0   31   31 - 40\n",
      "1   59   51 - 61\n",
      "2   24   18 - 30\n",
      "3   36   31 - 40\n",
      "4   56   51 - 61\n"
     ]
    }
   ],
   "source": [
    "# Criar uma coluna com as idades agrupadas em 5 faixas\n",
    "\n",
    "bins = [18,31,41,51,61] # Limite dos grupos\n",
    "labels = ['18 - 30','31 - 40','41 - 50','51 - 61'] # Rótulos dos grupos\n",
    "\n",
    "df['Age Group'] = pd.cut(df['Age'], bins=bins, labels=labels, right=False)\n",
    "\n",
    "print(df[['Age', 'Age Group']].head())\n"
   ]
  },
  {
   "cell_type": "code",
   "execution_count": 141,
   "id": "e45cc5c9",
   "metadata": {},
   "outputs": [
    {
     "name": "stdout",
     "output_type": "stream",
     "text": [
      "18 - 30    48.0\n",
      "31 - 40    55.0\n",
      "41 - 50    54.0\n",
      "51 - 61    54.0\n",
      "Name: Age Group, dtype: float64 2\n"
     ]
    }
   ],
   "source": [
    "# Analisar a porcentagem de funcionários que permaneceram na empresa\n",
    "\n",
    "total_por_faixa_idade = df['Age Group']. value_counts().sort_index()\n",
    "\n",
    "Stayed_por_faixa_idade = df[df['Attrition'] == 'Stayed']['Age Group'].value_counts().sort_index()\n",
    "\n",
    "Stayed_porcentagem_por_faixa_idade = (Stayed_por_faixa_idade / total_por_faixa_idade) * 100\n",
    "\n",
    "print(round(Stayed_porcentagem_por_faixa_idade),2)"
   ]
  },
  {
   "cell_type": "code",
   "execution_count": 142,
   "id": "d73be444",
   "metadata": {},
   "outputs": [
    {
     "data": {
      "text/plain": [
       "18 - 30    30.581563\n",
       "41 - 50    24.081345\n",
       "31 - 40    24.029330\n",
       "51 - 61    21.307762\n",
       "Name: Age Group, dtype: float64"
      ]
     },
     "execution_count": 142,
     "metadata": {},
     "output_type": "execute_result"
    }
   ],
   "source": [
    "# Porcentagem de funcionários por faixa de idade\n",
    "\n",
    "df['Age Group'].value_counts() / df['Age'].value_counts().sum() * 100"
   ]
  },
  {
   "cell_type": "code",
   "execution_count": 143,
   "id": "e60c2b51",
   "metadata": {},
   "outputs": [
    {
     "name": "stdout",
     "output_type": "stream",
     "text": [
      "High         45.0\n",
      "Low          52.0\n",
      "Medium       45.0\n",
      "Very High    53.0\n",
      "Name: Job Satisfaction, dtype: float64 2\n"
     ]
    }
   ],
   "source": [
    "# Analisar a variável Job Satisfaction e a probalidade do funcionário deixar a empresa\n",
    "\n",
    "left_por_job_satisfaction = df[df['Attrition'] == 'Left']['Job Satisfaction'].value_counts().sort_index()\n",
    "\n",
    "total_por_job_satisfaction = df['Job Satisfaction'].value_counts()\n",
    "\n",
    "Porcentagem_left_por_job_satisfaction = left_por_job_satisfaction / total_por_job_satisfaction * 100\n",
    "\n",
    "print(round(Porcentagem_left_por_job_satisfaction),2)"
   ]
  },
  {
   "cell_type": "code",
   "execution_count": 144,
   "id": "758a85a2",
   "metadata": {},
   "outputs": [
    {
     "name": "stdout",
     "output_type": "stream",
     "text": [
      "No     47.0\n",
      "Yes    75.0\n",
      "Name: Remote Work, dtype: float64 2\n"
     ]
    }
   ],
   "source": [
    "# Analisar qual a taxa de atrito da variável Remote Work e a probalidade do funcionário deixar a empresa\n",
    "\n",
    "Stayed_por_remote_work = df[df['Attrition'] == 'Stayed']['Remote Work'].value_counts().sort_index()\n",
    "\n",
    "total_por_remote_work = df['Remote Work'].value_counts()\n",
    "\n",
    "Porcentagem_stayed_por_job_satisfaction = Stayed_por_remote_work / total_por_remote_work * 100\n",
    "\n",
    "print(round(Porcentagem_stayed_por_job_satisfaction),2)"
   ]
  },
  {
   "cell_type": "code",
   "execution_count": 145,
   "id": "5a05ece5",
   "metadata": {},
   "outputs": [
    {
     "data": {
      "text/html": [
       "<div>\n",
       "<style scoped>\n",
       "    .dataframe tbody tr th:only-of-type {\n",
       "        vertical-align: middle;\n",
       "    }\n",
       "\n",
       "    .dataframe tbody tr th {\n",
       "        vertical-align: top;\n",
       "    }\n",
       "\n",
       "    .dataframe thead th {\n",
       "        text-align: right;\n",
       "    }\n",
       "</style>\n",
       "<table border=\"1\" class=\"dataframe\">\n",
       "  <thead>\n",
       "    <tr style=\"text-align: right;\">\n",
       "      <th></th>\n",
       "      <th>Age</th>\n",
       "      <th>Gender</th>\n",
       "      <th>Years at Company</th>\n",
       "      <th>Job Role</th>\n",
       "      <th>Monthly Income</th>\n",
       "      <th>Work-Life Balance</th>\n",
       "      <th>Job Satisfaction</th>\n",
       "      <th>Performance Rating</th>\n",
       "      <th>Number of Promotions</th>\n",
       "      <th>Overtime</th>\n",
       "      <th>...</th>\n",
       "      <th>Company Size</th>\n",
       "      <th>Company Tenure</th>\n",
       "      <th>Remote Work</th>\n",
       "      <th>Leadership Opportunities</th>\n",
       "      <th>Innovation Opportunities</th>\n",
       "      <th>Company Reputation</th>\n",
       "      <th>Employee Recognition</th>\n",
       "      <th>Attrition</th>\n",
       "      <th>Age Group</th>\n",
       "      <th>Attrition_Binary</th>\n",
       "    </tr>\n",
       "  </thead>\n",
       "  <tbody>\n",
       "    <tr>\n",
       "      <th>0</th>\n",
       "      <td>31</td>\n",
       "      <td>Male</td>\n",
       "      <td>19</td>\n",
       "      <td>Education</td>\n",
       "      <td>5390</td>\n",
       "      <td>Excellent</td>\n",
       "      <td>Medium</td>\n",
       "      <td>Average</td>\n",
       "      <td>2</td>\n",
       "      <td>No</td>\n",
       "      <td>...</td>\n",
       "      <td>Medium</td>\n",
       "      <td>89</td>\n",
       "      <td>No</td>\n",
       "      <td>No</td>\n",
       "      <td>No</td>\n",
       "      <td>Excellent</td>\n",
       "      <td>Medium</td>\n",
       "      <td>Stayed</td>\n",
       "      <td>31 - 40</td>\n",
       "      <td>0</td>\n",
       "    </tr>\n",
       "    <tr>\n",
       "      <th>1</th>\n",
       "      <td>59</td>\n",
       "      <td>Female</td>\n",
       "      <td>4</td>\n",
       "      <td>Media</td>\n",
       "      <td>5534</td>\n",
       "      <td>Poor</td>\n",
       "      <td>High</td>\n",
       "      <td>Low</td>\n",
       "      <td>3</td>\n",
       "      <td>No</td>\n",
       "      <td>...</td>\n",
       "      <td>Medium</td>\n",
       "      <td>21</td>\n",
       "      <td>No</td>\n",
       "      <td>No</td>\n",
       "      <td>No</td>\n",
       "      <td>Fair</td>\n",
       "      <td>Low</td>\n",
       "      <td>Stayed</td>\n",
       "      <td>51 - 61</td>\n",
       "      <td>0</td>\n",
       "    </tr>\n",
       "    <tr>\n",
       "      <th>2</th>\n",
       "      <td>24</td>\n",
       "      <td>Female</td>\n",
       "      <td>10</td>\n",
       "      <td>Healthcare</td>\n",
       "      <td>8159</td>\n",
       "      <td>Good</td>\n",
       "      <td>High</td>\n",
       "      <td>Low</td>\n",
       "      <td>0</td>\n",
       "      <td>No</td>\n",
       "      <td>...</td>\n",
       "      <td>Medium</td>\n",
       "      <td>74</td>\n",
       "      <td>No</td>\n",
       "      <td>No</td>\n",
       "      <td>No</td>\n",
       "      <td>Poor</td>\n",
       "      <td>Low</td>\n",
       "      <td>Stayed</td>\n",
       "      <td>18 - 30</td>\n",
       "      <td>0</td>\n",
       "    </tr>\n",
       "    <tr>\n",
       "      <th>3</th>\n",
       "      <td>36</td>\n",
       "      <td>Female</td>\n",
       "      <td>7</td>\n",
       "      <td>Education</td>\n",
       "      <td>3989</td>\n",
       "      <td>Good</td>\n",
       "      <td>High</td>\n",
       "      <td>High</td>\n",
       "      <td>1</td>\n",
       "      <td>No</td>\n",
       "      <td>...</td>\n",
       "      <td>Small</td>\n",
       "      <td>50</td>\n",
       "      <td>Yes</td>\n",
       "      <td>No</td>\n",
       "      <td>No</td>\n",
       "      <td>Good</td>\n",
       "      <td>Medium</td>\n",
       "      <td>Stayed</td>\n",
       "      <td>31 - 40</td>\n",
       "      <td>0</td>\n",
       "    </tr>\n",
       "    <tr>\n",
       "      <th>4</th>\n",
       "      <td>56</td>\n",
       "      <td>Male</td>\n",
       "      <td>41</td>\n",
       "      <td>Education</td>\n",
       "      <td>4821</td>\n",
       "      <td>Fair</td>\n",
       "      <td>Very High</td>\n",
       "      <td>Average</td>\n",
       "      <td>0</td>\n",
       "      <td>Yes</td>\n",
       "      <td>...</td>\n",
       "      <td>Medium</td>\n",
       "      <td>68</td>\n",
       "      <td>No</td>\n",
       "      <td>No</td>\n",
       "      <td>No</td>\n",
       "      <td>Fair</td>\n",
       "      <td>Medium</td>\n",
       "      <td>Stayed</td>\n",
       "      <td>51 - 61</td>\n",
       "      <td>0</td>\n",
       "    </tr>\n",
       "    <tr>\n",
       "      <th>...</th>\n",
       "      <td>...</td>\n",
       "      <td>...</td>\n",
       "      <td>...</td>\n",
       "      <td>...</td>\n",
       "      <td>...</td>\n",
       "      <td>...</td>\n",
       "      <td>...</td>\n",
       "      <td>...</td>\n",
       "      <td>...</td>\n",
       "      <td>...</td>\n",
       "      <td>...</td>\n",
       "      <td>...</td>\n",
       "      <td>...</td>\n",
       "      <td>...</td>\n",
       "      <td>...</td>\n",
       "      <td>...</td>\n",
       "      <td>...</td>\n",
       "      <td>...</td>\n",
       "      <td>...</td>\n",
       "      <td>...</td>\n",
       "      <td>...</td>\n",
       "    </tr>\n",
       "    <tr>\n",
       "      <th>59593</th>\n",
       "      <td>50</td>\n",
       "      <td>Female</td>\n",
       "      <td>12</td>\n",
       "      <td>Education</td>\n",
       "      <td>4414</td>\n",
       "      <td>Fair</td>\n",
       "      <td>High</td>\n",
       "      <td>Average</td>\n",
       "      <td>1</td>\n",
       "      <td>Yes</td>\n",
       "      <td>...</td>\n",
       "      <td>Small</td>\n",
       "      <td>35</td>\n",
       "      <td>No</td>\n",
       "      <td>No</td>\n",
       "      <td>Yes</td>\n",
       "      <td>Poor</td>\n",
       "      <td>Very High</td>\n",
       "      <td>Left</td>\n",
       "      <td>41 - 50</td>\n",
       "      <td>1</td>\n",
       "    </tr>\n",
       "    <tr>\n",
       "      <th>59594</th>\n",
       "      <td>18</td>\n",
       "      <td>Male</td>\n",
       "      <td>4</td>\n",
       "      <td>Healthcare</td>\n",
       "      <td>8040</td>\n",
       "      <td>Fair</td>\n",
       "      <td>High</td>\n",
       "      <td>High</td>\n",
       "      <td>3</td>\n",
       "      <td>No</td>\n",
       "      <td>...</td>\n",
       "      <td>Medium</td>\n",
       "      <td>73</td>\n",
       "      <td>No</td>\n",
       "      <td>No</td>\n",
       "      <td>No</td>\n",
       "      <td>Fair</td>\n",
       "      <td>Medium</td>\n",
       "      <td>Left</td>\n",
       "      <td>18 - 30</td>\n",
       "      <td>1</td>\n",
       "    </tr>\n",
       "    <tr>\n",
       "      <th>59595</th>\n",
       "      <td>22</td>\n",
       "      <td>Female</td>\n",
       "      <td>14</td>\n",
       "      <td>Technology</td>\n",
       "      <td>7944</td>\n",
       "      <td>Fair</td>\n",
       "      <td>High</td>\n",
       "      <td>High</td>\n",
       "      <td>0</td>\n",
       "      <td>Yes</td>\n",
       "      <td>...</td>\n",
       "      <td>Small</td>\n",
       "      <td>29</td>\n",
       "      <td>No</td>\n",
       "      <td>Yes</td>\n",
       "      <td>No</td>\n",
       "      <td>Good</td>\n",
       "      <td>Medium</td>\n",
       "      <td>Stayed</td>\n",
       "      <td>18 - 30</td>\n",
       "      <td>0</td>\n",
       "    </tr>\n",
       "    <tr>\n",
       "      <th>59596</th>\n",
       "      <td>23</td>\n",
       "      <td>Male</td>\n",
       "      <td>8</td>\n",
       "      <td>Education</td>\n",
       "      <td>2931</td>\n",
       "      <td>Fair</td>\n",
       "      <td>Very High</td>\n",
       "      <td>Average</td>\n",
       "      <td>0</td>\n",
       "      <td>No</td>\n",
       "      <td>...</td>\n",
       "      <td>Large</td>\n",
       "      <td>9</td>\n",
       "      <td>No</td>\n",
       "      <td>No</td>\n",
       "      <td>No</td>\n",
       "      <td>Good</td>\n",
       "      <td>Low</td>\n",
       "      <td>Left</td>\n",
       "      <td>18 - 30</td>\n",
       "      <td>1</td>\n",
       "    </tr>\n",
       "    <tr>\n",
       "      <th>59597</th>\n",
       "      <td>56</td>\n",
       "      <td>Male</td>\n",
       "      <td>19</td>\n",
       "      <td>Technology</td>\n",
       "      <td>6660</td>\n",
       "      <td>Good</td>\n",
       "      <td>High</td>\n",
       "      <td>Average</td>\n",
       "      <td>0</td>\n",
       "      <td>Yes</td>\n",
       "      <td>...</td>\n",
       "      <td>Medium</td>\n",
       "      <td>81</td>\n",
       "      <td>No</td>\n",
       "      <td>No</td>\n",
       "      <td>No</td>\n",
       "      <td>Good</td>\n",
       "      <td>Low</td>\n",
       "      <td>Stayed</td>\n",
       "      <td>51 - 61</td>\n",
       "      <td>0</td>\n",
       "    </tr>\n",
       "  </tbody>\n",
       "</table>\n",
       "<p>59598 rows × 25 columns</p>\n",
       "</div>"
      ],
      "text/plain": [
       "       Age  Gender  Years at Company    Job Role  Monthly Income  \\\n",
       "0       31    Male                19   Education            5390   \n",
       "1       59  Female                 4       Media            5534   \n",
       "2       24  Female                10  Healthcare            8159   \n",
       "3       36  Female                 7   Education            3989   \n",
       "4       56    Male                41   Education            4821   \n",
       "...    ...     ...               ...         ...             ...   \n",
       "59593   50  Female                12   Education            4414   \n",
       "59594   18    Male                 4  Healthcare            8040   \n",
       "59595   22  Female                14  Technology            7944   \n",
       "59596   23    Male                 8   Education            2931   \n",
       "59597   56    Male                19  Technology            6660   \n",
       "\n",
       "      Work-Life Balance Job Satisfaction Performance Rating  \\\n",
       "0             Excellent           Medium            Average   \n",
       "1                  Poor             High                Low   \n",
       "2                  Good             High                Low   \n",
       "3                  Good             High               High   \n",
       "4                  Fair        Very High            Average   \n",
       "...                 ...              ...                ...   \n",
       "59593              Fair             High            Average   \n",
       "59594              Fair             High               High   \n",
       "59595              Fair             High               High   \n",
       "59596              Fair        Very High            Average   \n",
       "59597              Good             High            Average   \n",
       "\n",
       "       Number of Promotions Overtime  ...  Company Size Company Tenure  \\\n",
       "0                         2       No  ...        Medium             89   \n",
       "1                         3       No  ...        Medium             21   \n",
       "2                         0       No  ...        Medium             74   \n",
       "3                         1       No  ...         Small             50   \n",
       "4                         0      Yes  ...        Medium             68   \n",
       "...                     ...      ...  ...           ...            ...   \n",
       "59593                     1      Yes  ...         Small             35   \n",
       "59594                     3       No  ...        Medium             73   \n",
       "59595                     0      Yes  ...         Small             29   \n",
       "59596                     0       No  ...         Large              9   \n",
       "59597                     0      Yes  ...        Medium             81   \n",
       "\n",
       "      Remote Work  Leadership Opportunities Innovation Opportunities  \\\n",
       "0              No                        No                       No   \n",
       "1              No                        No                       No   \n",
       "2              No                        No                       No   \n",
       "3             Yes                        No                       No   \n",
       "4              No                        No                       No   \n",
       "...           ...                       ...                      ...   \n",
       "59593          No                        No                      Yes   \n",
       "59594          No                        No                       No   \n",
       "59595          No                       Yes                       No   \n",
       "59596          No                        No                       No   \n",
       "59597          No                        No                       No   \n",
       "\n",
       "      Company Reputation  Employee Recognition Attrition Age Group  \\\n",
       "0              Excellent                Medium    Stayed   31 - 40   \n",
       "1                   Fair                   Low    Stayed   51 - 61   \n",
       "2                   Poor                   Low    Stayed   18 - 30   \n",
       "3                   Good                Medium    Stayed   31 - 40   \n",
       "4                   Fair                Medium    Stayed   51 - 61   \n",
       "...                  ...                   ...       ...       ...   \n",
       "59593               Poor             Very High      Left   41 - 50   \n",
       "59594               Fair                Medium      Left   18 - 30   \n",
       "59595               Good                Medium    Stayed   18 - 30   \n",
       "59596               Good                   Low      Left   18 - 30   \n",
       "59597               Good                   Low    Stayed   51 - 61   \n",
       "\n",
       "      Attrition_Binary  \n",
       "0                    0  \n",
       "1                    0  \n",
       "2                    0  \n",
       "3                    0  \n",
       "4                    0  \n",
       "...                ...  \n",
       "59593                1  \n",
       "59594                1  \n",
       "59595                0  \n",
       "59596                1  \n",
       "59597                0  \n",
       "\n",
       "[59598 rows x 25 columns]"
      ]
     },
     "execution_count": 145,
     "metadata": {},
     "output_type": "execute_result"
    }
   ],
   "source": [
    "# Criar uma coluna binária da variável attrition\n",
    "\n",
    "df['Attrition_Binary'] = df['Attrition'].apply(lambda x: 1 if x == 'Left' else 0) # Criando uma coluna binária da variável attrition\n",
    "df"
   ]
  },
  {
   "cell_type": "code",
   "execution_count": 146,
   "id": "51e3c7db",
   "metadata": {},
   "outputs": [
    {
     "data": {
      "text/html": [
       "<div>\n",
       "<style scoped>\n",
       "    .dataframe tbody tr th:only-of-type {\n",
       "        vertical-align: middle;\n",
       "    }\n",
       "\n",
       "    .dataframe tbody tr th {\n",
       "        vertical-align: top;\n",
       "    }\n",
       "\n",
       "    .dataframe thead th {\n",
       "        text-align: right;\n",
       "    }\n",
       "</style>\n",
       "<table border=\"1\" class=\"dataframe\">\n",
       "  <thead>\n",
       "    <tr style=\"text-align: right;\">\n",
       "      <th></th>\n",
       "      <th>Monthly Income</th>\n",
       "      <th>Attrition_Binary</th>\n",
       "    </tr>\n",
       "  </thead>\n",
       "  <tbody>\n",
       "    <tr>\n",
       "      <th>Monthly Income</th>\n",
       "      <td>1.000000</td>\n",
       "      <td>-0.011377</td>\n",
       "    </tr>\n",
       "    <tr>\n",
       "      <th>Attrition_Binary</th>\n",
       "      <td>-0.011377</td>\n",
       "      <td>1.000000</td>\n",
       "    </tr>\n",
       "  </tbody>\n",
       "</table>\n",
       "</div>"
      ],
      "text/plain": [
       "                  Monthly Income  Attrition_Binary\n",
       "Monthly Income          1.000000         -0.011377\n",
       "Attrition_Binary       -0.011377          1.000000"
      ]
     },
     "execution_count": 146,
     "metadata": {},
     "output_type": "execute_result"
    }
   ],
   "source": [
    "# Qual a correlação entre Monthly Income (Renda Mensal) e o atrito\n",
    "\n",
    "income_attrition = df[['Monthly Income','Attrition_Binary']]\n",
    "corr = income_attrition.corr()\n",
    "corr"
   ]
  },
  {
   "cell_type": "code",
   "execution_count": 147,
   "id": "325ad0f3",
   "metadata": {},
   "outputs": [
    {
     "name": "stdout",
     "output_type": "stream",
     "text": [
      "Associate Degree     48.0\n",
      "Bachelor’s Degree    49.0\n",
      "High School          48.0\n",
      "Master’s Degree      49.0\n",
      "PhD                  25.0\n",
      "Name: Education Level, dtype: float64 2\n"
     ]
    }
   ],
   "source": [
    "# Analisar a variável Education Level e a probalidade do funcionário deixar a empresa\n",
    "\n",
    "left_por_education_level = df[df['Attrition'] == 'Left']['Education Level'].value_counts().sort_index()\n",
    "\n",
    "total_por_education_level = df['Education Level'].value_counts()\n",
    "\n",
    "Porcentagem_left_por_education_level = left_por_education_level / total_por_education_level * 100\n",
    "\n",
    "print(round(Porcentagem_left_por_education_level),2)"
   ]
  },
  {
   "cell_type": "code",
   "execution_count": 148,
   "id": "3036e9c3",
   "metadata": {},
   "outputs": [
    {
     "data": {
      "text/plain": [
       "Education Level\n",
       "Associate Degree     7322.457124\n",
       "Bachelor’s Degree    7292.325087\n",
       "High School          7301.942543\n",
       "Master’s Degree      7294.806323\n",
       "PhD                  7294.945613\n",
       "Name: Monthly Income, dtype: float64"
      ]
     },
     "execution_count": 148,
     "metadata": {},
     "output_type": "execute_result"
    }
   ],
   "source": [
    "# Analisar a média de salário por Education Level\n",
    "\n",
    "df.groupby('Education Level')['Monthly Income'].mean()"
   ]
  },
  {
   "cell_type": "code",
   "execution_count": 149,
   "id": "aaf169da",
   "metadata": {},
   "outputs": [
    {
     "data": {
      "text/plain": [
       "Education Level\n",
       "Associate Degree     15.702514\n",
       "Bachelor’s Degree    15.758387\n",
       "High School          15.697055\n",
       "Master’s Degree      15.780449\n",
       "PhD                  16.089026\n",
       "Name: Years at Company, dtype: float64"
      ]
     },
     "execution_count": 149,
     "metadata": {},
     "output_type": "execute_result"
    }
   ],
   "source": [
    "# Analisar a média de anos na companhia por Education Level\n",
    "\n",
    "df.groupby('Education Level')['Years at Company'].mean()"
   ]
  },
  {
   "cell_type": "code",
   "execution_count": 150,
   "id": "de3f4108",
   "metadata": {},
   "outputs": [
    {
     "name": "stdout",
     "output_type": "stream",
     "text": [
      "0    49.0\n",
      "1    49.0\n",
      "2    49.0\n",
      "3    25.0\n",
      "4    23.0\n",
      "Name: Number of Promotions, dtype: float64 2\n"
     ]
    }
   ],
   "source": [
    "# Analisar se a quantidade de promoções tem menor probabilidade do funcionário sair da empresa\n",
    "\n",
    "left_por_number_promotions = df[df['Attrition'] == 'Left']['Number of Promotions'].value_counts().sort_index()\n",
    "\n",
    "total_por_number_promotions = df['Number of Promotions'].value_counts()\n",
    "\n",
    "Porcentagem_left_por_number_promotions = left_por_number_promotions / total_por_number_promotions * 100\n",
    "\n",
    "print(round(Porcentagem_left_por_number_promotions),2)"
   ]
  },
  {
   "cell_type": "code",
   "execution_count": 151,
   "id": "0a475f1a",
   "metadata": {},
   "outputs": [
    {
     "name": "stdout",
     "output_type": "stream",
     "text": [
      "Excellent    36.0\n",
      "Fair         57.0\n",
      "Good         41.0\n",
      "Poor         60.0\n",
      "Name: Work-Life Balance, dtype: float64 2\n"
     ]
    }
   ],
   "source": [
    "# Analisar a relação entre work life balance e a probabilidade do funcionário sair da empresa\n",
    "\n",
    "left_por_work_life_balance = df[df['Attrition'] == 'Left']['Work-Life Balance'].value_counts().sort_index()\n",
    "\n",
    "total_por_work_life_balance = df['Work-Life Balance'].value_counts()\n",
    "\n",
    "Porcentagem_left_por_work_life_balance = left_por_work_life_balance / total_por_work_life_balance * 100\n",
    "\n",
    "print(round(Porcentagem_left_por_work_life_balance),2)"
   ]
  },
  {
   "cell_type": "code",
   "execution_count": 152,
   "id": "93070315",
   "metadata": {},
   "outputs": [
    {
     "name": "stdout",
     "output_type": "stream",
     "text": [
      "Excellent    44.0\n",
      "Fair         52.0\n",
      "Good         43.0\n",
      "Poor         56.0\n",
      "Name: Company Reputation, dtype: float64 2\n"
     ]
    }
   ],
   "source": [
    "# Analisar a relação entre reputação da empresa e a probabilidade do funcionário sair da empresa\n",
    "\n",
    "left_por_company_reputation = df[df['Attrition'] == 'Left']['Company Reputation'].value_counts().sort_index()\n",
    "\n",
    "total_por_company_reputation = df['Company Reputation'].value_counts()\n",
    "\n",
    "Porcentagem_left_por_company_reputation = left_por_company_reputation / total_por_company_reputation * 100\n",
    "\n",
    "print(round(Porcentagem_left_por_company_reputation),2)"
   ]
  },
  {
   "cell_type": "code",
   "execution_count": 153,
   "id": "e621df65",
   "metadata": {},
   "outputs": [
    {
     "name": "stdout",
     "output_type": "stream",
     "text": [
      "No     48.0\n",
      "Yes    45.0\n",
      "Name: Leadership Opportunities, dtype: float64 2\n"
     ]
    }
   ],
   "source": [
    "# Analisar a relação entre oportunidades de liderança e a probabilidade do funcionário sair da empresa\n",
    "\n",
    "left_por_leadership_opportunities = df[df['Attrition'] == 'Left']['Leadership Opportunities'].value_counts().sort_index()\n",
    "\n",
    "total_por_leadership_opportunities = df['Leadership Opportunities'].value_counts()\n",
    "\n",
    "Porcentagem_left_por_leadership_opportunities = left_por_leadership_opportunities / total_por_leadership_opportunities * 100\n",
    "\n",
    "print(round(Porcentagem_left_por_leadership_opportunities),2)"
   ]
  },
  {
   "cell_type": "code",
   "execution_count": 154,
   "id": "8bbb29a1",
   "metadata": {},
   "outputs": [
    {
     "data": {
      "text/plain": [
       "count    59598.000000\n",
       "mean        50.007651\n",
       "std         28.466459\n",
       "min          1.000000\n",
       "25%         25.000000\n",
       "50%         50.000000\n",
       "75%         75.000000\n",
       "max         99.000000\n",
       "Name: Distance from Home, dtype: float64"
      ]
     },
     "execution_count": 154,
     "metadata": {},
     "output_type": "execute_result"
    }
   ],
   "source": [
    "# Análise descritiva da variável Distance From Home\n",
    "\n",
    "df['Distance from Home'].describe()"
   ]
  },
  {
   "cell_type": "code",
   "execution_count": 155,
   "id": "e029e0b8",
   "metadata": {},
   "outputs": [
    {
     "name": "stdout",
     "output_type": "stream",
     "text": [
      "   Distance from Home Distance From Home Group\n",
      "0                  22                  11 - 30\n",
      "1                  21                  11 - 30\n",
      "2                  11                  11 - 30\n",
      "3                  27                  11 - 30\n",
      "4                  71                  71 - 99\n"
     ]
    }
   ],
   "source": [
    "# Criar uma coluna com as distâncias agrupadas em 5 faixas\n",
    "\n",
    "bins = [0,11,31,51,71,100] # Limite dos grupos\n",
    "labels = ['1 - 10','11 - 30','31 - 50','51 - 70','71 - 99'] # Rótulos dos grupos\n",
    "\n",
    "df['Distance From Home Group'] = pd.cut(df['Distance from Home'], bins=bins, labels=labels, right=False)\n",
    "\n",
    "print(df[['Distance from Home', 'Distance From Home Group']].head())"
   ]
  },
  {
   "cell_type": "code",
   "execution_count": 156,
   "id": "fc40292e",
   "metadata": {},
   "outputs": [
    {
     "name": "stdout",
     "output_type": "stream",
     "text": [
      "1 - 10     58.0\n",
      "11 - 30    58.0\n",
      "31 - 50    58.0\n",
      "51 - 70    47.0\n",
      "71 - 99    47.0\n",
      "Name: Distance From Home Group, dtype: float64 2\n"
     ]
    }
   ],
   "source": [
    "# Analisar a porcentagem de funcionários que permaneceram na empresa\n",
    "\n",
    "total_por_Distance_from_home_group = df['Distance From Home Group']. value_counts().sort_index()\n",
    "\n",
    "Stayed_por_faixa_distance = df[df['Attrition'] == 'Stayed']['Distance From Home Group'].value_counts().sort_index()\n",
    "\n",
    "Stayed_porcentagem_Distance_from_home_group = (Stayed_por_faixa_distance / total_por_Distance_from_home_group) * 100\n",
    "\n",
    "print(round(Stayed_porcentagem_Distance_from_home_group),2)"
   ]
  },
  {
   "cell_type": "code",
   "execution_count": 157,
   "id": "b6915032",
   "metadata": {},
   "outputs": [
    {
     "data": {
      "text/html": [
       "<div>\n",
       "<style scoped>\n",
       "    .dataframe tbody tr th:only-of-type {\n",
       "        vertical-align: middle;\n",
       "    }\n",
       "\n",
       "    .dataframe tbody tr th {\n",
       "        vertical-align: top;\n",
       "    }\n",
       "\n",
       "    .dataframe thead th {\n",
       "        text-align: right;\n",
       "    }\n",
       "</style>\n",
       "<table border=\"1\" class=\"dataframe\">\n",
       "  <thead>\n",
       "    <tr style=\"text-align: right;\">\n",
       "      <th></th>\n",
       "      <th>Age</th>\n",
       "      <th>Years at Company</th>\n",
       "      <th>Monthly Income</th>\n",
       "      <th>Number of Promotions</th>\n",
       "      <th>Distance from Home</th>\n",
       "      <th>Number of Dependents</th>\n",
       "      <th>Company Tenure</th>\n",
       "    </tr>\n",
       "  </thead>\n",
       "  <tbody>\n",
       "    <tr>\n",
       "      <th>0</th>\n",
       "      <td>31</td>\n",
       "      <td>19</td>\n",
       "      <td>5390</td>\n",
       "      <td>2</td>\n",
       "      <td>22</td>\n",
       "      <td>0</td>\n",
       "      <td>89</td>\n",
       "    </tr>\n",
       "    <tr>\n",
       "      <th>1</th>\n",
       "      <td>59</td>\n",
       "      <td>4</td>\n",
       "      <td>5534</td>\n",
       "      <td>3</td>\n",
       "      <td>21</td>\n",
       "      <td>3</td>\n",
       "      <td>21</td>\n",
       "    </tr>\n",
       "    <tr>\n",
       "      <th>2</th>\n",
       "      <td>24</td>\n",
       "      <td>10</td>\n",
       "      <td>8159</td>\n",
       "      <td>0</td>\n",
       "      <td>11</td>\n",
       "      <td>3</td>\n",
       "      <td>74</td>\n",
       "    </tr>\n",
       "    <tr>\n",
       "      <th>3</th>\n",
       "      <td>36</td>\n",
       "      <td>7</td>\n",
       "      <td>3989</td>\n",
       "      <td>1</td>\n",
       "      <td>27</td>\n",
       "      <td>2</td>\n",
       "      <td>50</td>\n",
       "    </tr>\n",
       "    <tr>\n",
       "      <th>4</th>\n",
       "      <td>56</td>\n",
       "      <td>41</td>\n",
       "      <td>4821</td>\n",
       "      <td>0</td>\n",
       "      <td>71</td>\n",
       "      <td>0</td>\n",
       "      <td>68</td>\n",
       "    </tr>\n",
       "    <tr>\n",
       "      <th>...</th>\n",
       "      <td>...</td>\n",
       "      <td>...</td>\n",
       "      <td>...</td>\n",
       "      <td>...</td>\n",
       "      <td>...</td>\n",
       "      <td>...</td>\n",
       "      <td>...</td>\n",
       "    </tr>\n",
       "    <tr>\n",
       "      <th>59593</th>\n",
       "      <td>50</td>\n",
       "      <td>12</td>\n",
       "      <td>4414</td>\n",
       "      <td>1</td>\n",
       "      <td>66</td>\n",
       "      <td>2</td>\n",
       "      <td>35</td>\n",
       "    </tr>\n",
       "    <tr>\n",
       "      <th>59594</th>\n",
       "      <td>18</td>\n",
       "      <td>4</td>\n",
       "      <td>8040</td>\n",
       "      <td>3</td>\n",
       "      <td>42</td>\n",
       "      <td>0</td>\n",
       "      <td>73</td>\n",
       "    </tr>\n",
       "    <tr>\n",
       "      <th>59595</th>\n",
       "      <td>22</td>\n",
       "      <td>14</td>\n",
       "      <td>7944</td>\n",
       "      <td>0</td>\n",
       "      <td>34</td>\n",
       "      <td>2</td>\n",
       "      <td>29</td>\n",
       "    </tr>\n",
       "    <tr>\n",
       "      <th>59596</th>\n",
       "      <td>23</td>\n",
       "      <td>8</td>\n",
       "      <td>2931</td>\n",
       "      <td>0</td>\n",
       "      <td>62</td>\n",
       "      <td>0</td>\n",
       "      <td>9</td>\n",
       "    </tr>\n",
       "    <tr>\n",
       "      <th>59597</th>\n",
       "      <td>56</td>\n",
       "      <td>19</td>\n",
       "      <td>6660</td>\n",
       "      <td>0</td>\n",
       "      <td>20</td>\n",
       "      <td>3</td>\n",
       "      <td>81</td>\n",
       "    </tr>\n",
       "  </tbody>\n",
       "</table>\n",
       "<p>59598 rows × 7 columns</p>\n",
       "</div>"
      ],
      "text/plain": [
       "       Age  Years at Company  Monthly Income  Number of Promotions  \\\n",
       "0       31                19            5390                     2   \n",
       "1       59                 4            5534                     3   \n",
       "2       24                10            8159                     0   \n",
       "3       36                 7            3989                     1   \n",
       "4       56                41            4821                     0   \n",
       "...    ...               ...             ...                   ...   \n",
       "59593   50                12            4414                     1   \n",
       "59594   18                 4            8040                     3   \n",
       "59595   22                14            7944                     0   \n",
       "59596   23                 8            2931                     0   \n",
       "59597   56                19            6660                     0   \n",
       "\n",
       "       Distance from Home  Number of Dependents  Company Tenure  \n",
       "0                      22                     0              89  \n",
       "1                      21                     3              21  \n",
       "2                      11                     3              74  \n",
       "3                      27                     2              50  \n",
       "4                      71                     0              68  \n",
       "...                   ...                   ...             ...  \n",
       "59593                  66                     2              35  \n",
       "59594                  42                     0              73  \n",
       "59595                  34                     2              29  \n",
       "59596                  62                     0               9  \n",
       "59597                  20                     3              81  \n",
       "\n",
       "[59598 rows x 7 columns]"
      ]
     },
     "execution_count": 157,
     "metadata": {},
     "output_type": "execute_result"
    }
   ],
   "source": [
    "df2"
   ]
  },
  {
   "cell_type": "code",
   "execution_count": 158,
   "id": "c5987e2e",
   "metadata": {},
   "outputs": [
    {
     "data": {
      "text/html": [
       "<div>\n",
       "<style scoped>\n",
       "    .dataframe tbody tr th:only-of-type {\n",
       "        vertical-align: middle;\n",
       "    }\n",
       "\n",
       "    .dataframe tbody tr th {\n",
       "        vertical-align: top;\n",
       "    }\n",
       "\n",
       "    .dataframe thead th {\n",
       "        text-align: right;\n",
       "    }\n",
       "</style>\n",
       "<table border=\"1\" class=\"dataframe\">\n",
       "  <thead>\n",
       "    <tr style=\"text-align: right;\">\n",
       "      <th></th>\n",
       "      <th>Age</th>\n",
       "      <th>Years at Company</th>\n",
       "      <th>Monthly Income</th>\n",
       "      <th>Number of Promotions</th>\n",
       "      <th>Distance from Home</th>\n",
       "      <th>Number of Dependents</th>\n",
       "      <th>Company Tenure</th>\n",
       "    </tr>\n",
       "  </thead>\n",
       "  <tbody>\n",
       "    <tr>\n",
       "      <th>Age</th>\n",
       "      <td>1.000000</td>\n",
       "      <td>0.539806</td>\n",
       "      <td>-0.001989</td>\n",
       "      <td>0.000167</td>\n",
       "      <td>-0.007063</td>\n",
       "      <td>0.002927</td>\n",
       "      <td>0.237048</td>\n",
       "    </tr>\n",
       "    <tr>\n",
       "      <th>Years at Company</th>\n",
       "      <td>0.539806</td>\n",
       "      <td>1.000000</td>\n",
       "      <td>-0.005288</td>\n",
       "      <td>-0.000229</td>\n",
       "      <td>-0.006888</td>\n",
       "      <td>0.003973</td>\n",
       "      <td>0.442180</td>\n",
       "    </tr>\n",
       "    <tr>\n",
       "      <th>Monthly Income</th>\n",
       "      <td>-0.001989</td>\n",
       "      <td>-0.005288</td>\n",
       "      <td>1.000000</td>\n",
       "      <td>0.006418</td>\n",
       "      <td>-0.002528</td>\n",
       "      <td>0.002582</td>\n",
       "      <td>-0.005397</td>\n",
       "    </tr>\n",
       "    <tr>\n",
       "      <th>Number of Promotions</th>\n",
       "      <td>0.000167</td>\n",
       "      <td>-0.000229</td>\n",
       "      <td>0.006418</td>\n",
       "      <td>1.000000</td>\n",
       "      <td>-0.007882</td>\n",
       "      <td>-0.000558</td>\n",
       "      <td>0.003903</td>\n",
       "    </tr>\n",
       "    <tr>\n",
       "      <th>Distance from Home</th>\n",
       "      <td>-0.007063</td>\n",
       "      <td>-0.006888</td>\n",
       "      <td>-0.002528</td>\n",
       "      <td>-0.007882</td>\n",
       "      <td>1.000000</td>\n",
       "      <td>0.000659</td>\n",
       "      <td>-0.005595</td>\n",
       "    </tr>\n",
       "    <tr>\n",
       "      <th>Number of Dependents</th>\n",
       "      <td>0.002927</td>\n",
       "      <td>0.003973</td>\n",
       "      <td>0.002582</td>\n",
       "      <td>-0.000558</td>\n",
       "      <td>0.000659</td>\n",
       "      <td>1.000000</td>\n",
       "      <td>0.001600</td>\n",
       "    </tr>\n",
       "    <tr>\n",
       "      <th>Company Tenure</th>\n",
       "      <td>0.237048</td>\n",
       "      <td>0.442180</td>\n",
       "      <td>-0.005397</td>\n",
       "      <td>0.003903</td>\n",
       "      <td>-0.005595</td>\n",
       "      <td>0.001600</td>\n",
       "      <td>1.000000</td>\n",
       "    </tr>\n",
       "  </tbody>\n",
       "</table>\n",
       "</div>"
      ],
      "text/plain": [
       "                           Age  Years at Company  Monthly Income  \\\n",
       "Age                   1.000000          0.539806       -0.001989   \n",
       "Years at Company      0.539806          1.000000       -0.005288   \n",
       "Monthly Income       -0.001989         -0.005288        1.000000   \n",
       "Number of Promotions  0.000167         -0.000229        0.006418   \n",
       "Distance from Home   -0.007063         -0.006888       -0.002528   \n",
       "Number of Dependents  0.002927          0.003973        0.002582   \n",
       "Company Tenure        0.237048          0.442180       -0.005397   \n",
       "\n",
       "                      Number of Promotions  Distance from Home  \\\n",
       "Age                               0.000167           -0.007063   \n",
       "Years at Company                 -0.000229           -0.006888   \n",
       "Monthly Income                    0.006418           -0.002528   \n",
       "Number of Promotions              1.000000           -0.007882   \n",
       "Distance from Home               -0.007882            1.000000   \n",
       "Number of Dependents             -0.000558            0.000659   \n",
       "Company Tenure                    0.003903           -0.005595   \n",
       "\n",
       "                      Number of Dependents  Company Tenure  \n",
       "Age                               0.002927        0.237048  \n",
       "Years at Company                  0.003973        0.442180  \n",
       "Monthly Income                    0.002582       -0.005397  \n",
       "Number of Promotions             -0.000558        0.003903  \n",
       "Distance from Home                0.000659       -0.005595  \n",
       "Number of Dependents              1.000000        0.001600  \n",
       "Company Tenure                    0.001600        1.000000  "
      ]
     },
     "execution_count": 158,
     "metadata": {},
     "output_type": "execute_result"
    }
   ],
   "source": [
    "# Analisar correlação das variáveis númericas\n",
    "\n",
    "corr_df2 = df2.corr()\n",
    "corr_df2"
   ]
  },
  {
   "cell_type": "code",
   "execution_count": 159,
   "id": "d50bb3f4",
   "metadata": {},
   "outputs": [
    {
     "data": {
      "text/plain": [
       "<Axes: >"
      ]
     },
     "execution_count": 159,
     "metadata": {},
     "output_type": "execute_result"
    },
    {
     "data": {
      "image/png": "[encoded data removed]",
      "text/plain": [
       "<Figure size 640x480 with 2 Axes>"
      ]
     },
     "metadata": {},
     "output_type": "display_data"
    }
   ],
   "source": [
    "# Análise correlação utilizando heatmap\n",
    "\n",
    "sns.heatmap(corr_df2,cmap='Blues',annot=True,fmt='.2f')"
   ]
  },
  {
   "cell_type": "code",
   "execution_count": 160,
   "id": "08679b55",
   "metadata": {},
   "outputs": [
    {
     "data": {
      "text/html": [
       "<div>\n",
       "<style scoped>\n",
       "    .dataframe tbody tr th:only-of-type {\n",
       "        vertical-align: middle;\n",
       "    }\n",
       "\n",
       "    .dataframe tbody tr th {\n",
       "        vertical-align: top;\n",
       "    }\n",
       "\n",
       "    .dataframe thead th {\n",
       "        text-align: right;\n",
       "    }\n",
       "</style>\n",
       "<table border=\"1\" class=\"dataframe\">\n",
       "  <thead>\n",
       "    <tr style=\"text-align: right;\">\n",
       "      <th></th>\n",
       "      <th>Age</th>\n",
       "      <th>Gender</th>\n",
       "      <th>Years at Company</th>\n",
       "      <th>Job Role</th>\n",
       "      <th>Monthly Income</th>\n",
       "      <th>Work-Life Balance</th>\n",
       "      <th>Job Satisfaction</th>\n",
       "      <th>Performance Rating</th>\n",
       "      <th>Number of Promotions</th>\n",
       "      <th>Overtime</th>\n",
       "      <th>...</th>\n",
       "      <th>Number of Dependents</th>\n",
       "      <th>Job Level</th>\n",
       "      <th>Company Size</th>\n",
       "      <th>Company Tenure</th>\n",
       "      <th>Remote Work</th>\n",
       "      <th>Leadership Opportunities</th>\n",
       "      <th>Innovation Opportunities</th>\n",
       "      <th>Company Reputation</th>\n",
       "      <th>Employee Recognition</th>\n",
       "      <th>Attrition</th>\n",
       "    </tr>\n",
       "  </thead>\n",
       "  <tbody>\n",
       "    <tr>\n",
       "      <th>0</th>\n",
       "      <td>31</td>\n",
       "      <td>Male</td>\n",
       "      <td>19</td>\n",
       "      <td>Education</td>\n",
       "      <td>5390</td>\n",
       "      <td>Excellent</td>\n",
       "      <td>Medium</td>\n",
       "      <td>Average</td>\n",
       "      <td>2</td>\n",
       "      <td>No</td>\n",
       "      <td>...</td>\n",
       "      <td>0</td>\n",
       "      <td>Mid</td>\n",
       "      <td>Medium</td>\n",
       "      <td>89</td>\n",
       "      <td>No</td>\n",
       "      <td>No</td>\n",
       "      <td>No</td>\n",
       "      <td>Excellent</td>\n",
       "      <td>Medium</td>\n",
       "      <td>Stayed</td>\n",
       "    </tr>\n",
       "    <tr>\n",
       "      <th>1</th>\n",
       "      <td>59</td>\n",
       "      <td>Female</td>\n",
       "      <td>4</td>\n",
       "      <td>Media</td>\n",
       "      <td>5534</td>\n",
       "      <td>Poor</td>\n",
       "      <td>High</td>\n",
       "      <td>Low</td>\n",
       "      <td>3</td>\n",
       "      <td>No</td>\n",
       "      <td>...</td>\n",
       "      <td>3</td>\n",
       "      <td>Mid</td>\n",
       "      <td>Medium</td>\n",
       "      <td>21</td>\n",
       "      <td>No</td>\n",
       "      <td>No</td>\n",
       "      <td>No</td>\n",
       "      <td>Fair</td>\n",
       "      <td>Low</td>\n",
       "      <td>Stayed</td>\n",
       "    </tr>\n",
       "    <tr>\n",
       "      <th>2</th>\n",
       "      <td>24</td>\n",
       "      <td>Female</td>\n",
       "      <td>10</td>\n",
       "      <td>Healthcare</td>\n",
       "      <td>8159</td>\n",
       "      <td>Good</td>\n",
       "      <td>High</td>\n",
       "      <td>Low</td>\n",
       "      <td>0</td>\n",
       "      <td>No</td>\n",
       "      <td>...</td>\n",
       "      <td>3</td>\n",
       "      <td>Mid</td>\n",
       "      <td>Medium</td>\n",
       "      <td>74</td>\n",
       "      <td>No</td>\n",
       "      <td>No</td>\n",
       "      <td>No</td>\n",
       "      <td>Poor</td>\n",
       "      <td>Low</td>\n",
       "      <td>Stayed</td>\n",
       "    </tr>\n",
       "    <tr>\n",
       "      <th>3</th>\n",
       "      <td>36</td>\n",
       "      <td>Female</td>\n",
       "      <td>7</td>\n",
       "      <td>Education</td>\n",
       "      <td>3989</td>\n",
       "      <td>Good</td>\n",
       "      <td>High</td>\n",
       "      <td>High</td>\n",
       "      <td>1</td>\n",
       "      <td>No</td>\n",
       "      <td>...</td>\n",
       "      <td>2</td>\n",
       "      <td>Mid</td>\n",
       "      <td>Small</td>\n",
       "      <td>50</td>\n",
       "      <td>Yes</td>\n",
       "      <td>No</td>\n",
       "      <td>No</td>\n",
       "      <td>Good</td>\n",
       "      <td>Medium</td>\n",
       "      <td>Stayed</td>\n",
       "    </tr>\n",
       "    <tr>\n",
       "      <th>4</th>\n",
       "      <td>56</td>\n",
       "      <td>Male</td>\n",
       "      <td>41</td>\n",
       "      <td>Education</td>\n",
       "      <td>4821</td>\n",
       "      <td>Fair</td>\n",
       "      <td>Very High</td>\n",
       "      <td>Average</td>\n",
       "      <td>0</td>\n",
       "      <td>Yes</td>\n",
       "      <td>...</td>\n",
       "      <td>0</td>\n",
       "      <td>Senior</td>\n",
       "      <td>Medium</td>\n",
       "      <td>68</td>\n",
       "      <td>No</td>\n",
       "      <td>No</td>\n",
       "      <td>No</td>\n",
       "      <td>Fair</td>\n",
       "      <td>Medium</td>\n",
       "      <td>Stayed</td>\n",
       "    </tr>\n",
       "    <tr>\n",
       "      <th>...</th>\n",
       "      <td>...</td>\n",
       "      <td>...</td>\n",
       "      <td>...</td>\n",
       "      <td>...</td>\n",
       "      <td>...</td>\n",
       "      <td>...</td>\n",
       "      <td>...</td>\n",
       "      <td>...</td>\n",
       "      <td>...</td>\n",
       "      <td>...</td>\n",
       "      <td>...</td>\n",
       "      <td>...</td>\n",
       "      <td>...</td>\n",
       "      <td>...</td>\n",
       "      <td>...</td>\n",
       "      <td>...</td>\n",
       "      <td>...</td>\n",
       "      <td>...</td>\n",
       "      <td>...</td>\n",
       "      <td>...</td>\n",
       "      <td>...</td>\n",
       "    </tr>\n",
       "    <tr>\n",
       "      <th>59593</th>\n",
       "      <td>50</td>\n",
       "      <td>Female</td>\n",
       "      <td>12</td>\n",
       "      <td>Education</td>\n",
       "      <td>4414</td>\n",
       "      <td>Fair</td>\n",
       "      <td>High</td>\n",
       "      <td>Average</td>\n",
       "      <td>1</td>\n",
       "      <td>Yes</td>\n",
       "      <td>...</td>\n",
       "      <td>2</td>\n",
       "      <td>Senior</td>\n",
       "      <td>Small</td>\n",
       "      <td>35</td>\n",
       "      <td>No</td>\n",
       "      <td>No</td>\n",
       "      <td>Yes</td>\n",
       "      <td>Poor</td>\n",
       "      <td>Very High</td>\n",
       "      <td>Left</td>\n",
       "    </tr>\n",
       "    <tr>\n",
       "      <th>59594</th>\n",
       "      <td>18</td>\n",
       "      <td>Male</td>\n",
       "      <td>4</td>\n",
       "      <td>Healthcare</td>\n",
       "      <td>8040</td>\n",
       "      <td>Fair</td>\n",
       "      <td>High</td>\n",
       "      <td>High</td>\n",
       "      <td>3</td>\n",
       "      <td>No</td>\n",
       "      <td>...</td>\n",
       "      <td>0</td>\n",
       "      <td>Senior</td>\n",
       "      <td>Medium</td>\n",
       "      <td>73</td>\n",
       "      <td>No</td>\n",
       "      <td>No</td>\n",
       "      <td>No</td>\n",
       "      <td>Fair</td>\n",
       "      <td>Medium</td>\n",
       "      <td>Left</td>\n",
       "    </tr>\n",
       "    <tr>\n",
       "      <th>59595</th>\n",
       "      <td>22</td>\n",
       "      <td>Female</td>\n",
       "      <td>14</td>\n",
       "      <td>Technology</td>\n",
       "      <td>7944</td>\n",
       "      <td>Fair</td>\n",
       "      <td>High</td>\n",
       "      <td>High</td>\n",
       "      <td>0</td>\n",
       "      <td>Yes</td>\n",
       "      <td>...</td>\n",
       "      <td>2</td>\n",
       "      <td>Entry</td>\n",
       "      <td>Small</td>\n",
       "      <td>29</td>\n",
       "      <td>No</td>\n",
       "      <td>Yes</td>\n",
       "      <td>No</td>\n",
       "      <td>Good</td>\n",
       "      <td>Medium</td>\n",
       "      <td>Stayed</td>\n",
       "    </tr>\n",
       "    <tr>\n",
       "      <th>59596</th>\n",
       "      <td>23</td>\n",
       "      <td>Male</td>\n",
       "      <td>8</td>\n",
       "      <td>Education</td>\n",
       "      <td>2931</td>\n",
       "      <td>Fair</td>\n",
       "      <td>Very High</td>\n",
       "      <td>Average</td>\n",
       "      <td>0</td>\n",
       "      <td>No</td>\n",
       "      <td>...</td>\n",
       "      <td>0</td>\n",
       "      <td>Entry</td>\n",
       "      <td>Large</td>\n",
       "      <td>9</td>\n",
       "      <td>No</td>\n",
       "      <td>No</td>\n",
       "      <td>No</td>\n",
       "      <td>Good</td>\n",
       "      <td>Low</td>\n",
       "      <td>Left</td>\n",
       "    </tr>\n",
       "    <tr>\n",
       "      <th>59597</th>\n",
       "      <td>56</td>\n",
       "      <td>Male</td>\n",
       "      <td>19</td>\n",
       "      <td>Technology</td>\n",
       "      <td>6660</td>\n",
       "      <td>Good</td>\n",
       "      <td>High</td>\n",
       "      <td>Average</td>\n",
       "      <td>0</td>\n",
       "      <td>Yes</td>\n",
       "      <td>...</td>\n",
       "      <td>3</td>\n",
       "      <td>Mid</td>\n",
       "      <td>Medium</td>\n",
       "      <td>81</td>\n",
       "      <td>No</td>\n",
       "      <td>No</td>\n",
       "      <td>No</td>\n",
       "      <td>Good</td>\n",
       "      <td>Low</td>\n",
       "      <td>Stayed</td>\n",
       "    </tr>\n",
       "  </tbody>\n",
       "</table>\n",
       "<p>59598 rows × 23 columns</p>\n",
       "</div>"
      ],
      "text/plain": [
       "       Age  Gender  Years at Company    Job Role  Monthly Income  \\\n",
       "0       31    Male                19   Education            5390   \n",
       "1       59  Female                 4       Media            5534   \n",
       "2       24  Female                10  Healthcare            8159   \n",
       "3       36  Female                 7   Education            3989   \n",
       "4       56    Male                41   Education            4821   \n",
       "...    ...     ...               ...         ...             ...   \n",
       "59593   50  Female                12   Education            4414   \n",
       "59594   18    Male                 4  Healthcare            8040   \n",
       "59595   22  Female                14  Technology            7944   \n",
       "59596   23    Male                 8   Education            2931   \n",
       "59597   56    Male                19  Technology            6660   \n",
       "\n",
       "      Work-Life Balance Job Satisfaction Performance Rating  \\\n",
       "0             Excellent           Medium            Average   \n",
       "1                  Poor             High                Low   \n",
       "2                  Good             High                Low   \n",
       "3                  Good             High               High   \n",
       "4                  Fair        Very High            Average   \n",
       "...                 ...              ...                ...   \n",
       "59593              Fair             High            Average   \n",
       "59594              Fair             High               High   \n",
       "59595              Fair             High               High   \n",
       "59596              Fair        Very High            Average   \n",
       "59597              Good             High            Average   \n",
       "\n",
       "       Number of Promotions Overtime  ...  Number of Dependents Job Level  \\\n",
       "0                         2       No  ...                     0       Mid   \n",
       "1                         3       No  ...                     3       Mid   \n",
       "2                         0       No  ...                     3       Mid   \n",
       "3                         1       No  ...                     2       Mid   \n",
       "4                         0      Yes  ...                     0    Senior   \n",
       "...                     ...      ...  ...                   ...       ...   \n",
       "59593                     1      Yes  ...                     2    Senior   \n",
       "59594                     3       No  ...                     0    Senior   \n",
       "59595                     0      Yes  ...                     2     Entry   \n",
       "59596                     0       No  ...                     0     Entry   \n",
       "59597                     0      Yes  ...                     3       Mid   \n",
       "\n",
       "      Company Size  Company Tenure Remote Work Leadership Opportunities  \\\n",
       "0           Medium              89          No                       No   \n",
       "1           Medium              21          No                       No   \n",
       "2           Medium              74          No                       No   \n",
       "3            Small              50         Yes                       No   \n",
       "4           Medium              68          No                       No   \n",
       "...            ...             ...         ...                      ...   \n",
       "59593        Small              35          No                       No   \n",
       "59594       Medium              73          No                       No   \n",
       "59595        Small              29          No                      Yes   \n",
       "59596        Large               9          No                       No   \n",
       "59597       Medium              81          No                       No   \n",
       "\n",
       "       Innovation Opportunities Company Reputation Employee Recognition  \\\n",
       "0                            No          Excellent               Medium   \n",
       "1                            No               Fair                  Low   \n",
       "2                            No               Poor                  Low   \n",
       "3                            No               Good               Medium   \n",
       "4                            No               Fair               Medium   \n",
       "...                         ...                ...                  ...   \n",
       "59593                       Yes               Poor            Very High   \n",
       "59594                        No               Fair               Medium   \n",
       "59595                        No               Good               Medium   \n",
       "59596                        No               Good                  Low   \n",
       "59597                        No               Good                  Low   \n",
       "\n",
       "      Attrition  \n",
       "0        Stayed  \n",
       "1        Stayed  \n",
       "2        Stayed  \n",
       "3        Stayed  \n",
       "4        Stayed  \n",
       "...         ...  \n",
       "59593      Left  \n",
       "59594      Left  \n",
       "59595    Stayed  \n",
       "59596      Left  \n",
       "59597    Stayed  \n",
       "\n",
       "[59598 rows x 23 columns]"
      ]
     },
     "execution_count": 160,
     "metadata": {},
     "output_type": "execute_result"
    }
   ],
   "source": [
    "# Drop colunas criadas de agrupamento para os próximos passos de Normalização e codificação dos dados\n",
    "\n",
    "df3 = df.drop(['Age Group','Attrition_Binary','Distance From Home Group'], axis=1)\n",
    "df3"
   ]
  },
  {
   "cell_type": "code",
   "execution_count": 161,
   "id": "a2727388",
   "metadata": {},
   "outputs": [],
   "source": [
    "# Importar bibliotecas para Padronização e codificação dos dados e criação do modelo de regressão logistica.\n",
    "\n",
    "from sklearn.preprocessing import StandardScaler, OneHotEncoder\n",
    "from sklearn.linear_model import LogisticRegression\n",
    "from sklearn.metrics import accuracy_score, classification_report, confusion_matrix, ConfusionMatrixDisplay"
   ]
  },
  {
   "cell_type": "code",
   "execution_count": 162,
   "id": "e9722e13",
   "metadata": {},
   "outputs": [],
   "source": [
    "# Separar features e target\n",
    "\n",
    "X_train = df3.drop(columns=['Attrition'])\n",
    "y_train = df3['Attrition']"
   ]
  },
  {
   "cell_type": "code",
   "execution_count": 163,
   "id": "f3b1ee5c",
   "metadata": {},
   "outputs": [],
   "source": [
    "# Identificar colunas categóricas e colunas númericas\n",
    "\n",
    "categorical_features = X_train.select_dtypes(include=['object']).columns\n",
    "numerical_features = X_train.select_dtypes(include=['int64','float64']).columns"
   ]
  },
  {
   "cell_type": "code",
   "execution_count": 164,
   "id": "1fa64dd0",
   "metadata": {},
   "outputs": [],
   "source": [
    "# Codificar variáveis categóricas\n",
    "\n",
    "encoder = OneHotEncoder(drop='first', sparse=False)\n",
    "X_train_encoded = encoder.fit_transform(X_train[categorical_features])\n",
    "X_train_encoded_df = pd.DataFrame(X_train_encoded, columns=encoder.get_feature_names_out(categorical_features))\n",
    "X_train_processed = pd.concat([X_train.reset_index(drop=True).drop(columns=categorical_features),X_train_encoded_df], axis=1)"
   ]
  },
  {
   "cell_type": "code",
   "execution_count": 165,
   "id": "ee27a981",
   "metadata": {},
   "outputs": [],
   "source": [
    "# Normalizar variáveis númericas\n",
    "\n",
    "scaler = StandardScaler()\n",
    "X_train_processed[numerical_features] = scaler.fit_transform(X_train_processed[numerical_features])"
   ]
  },
  {
   "cell_type": "code",
   "execution_count": 166,
   "id": "91e4c034",
   "metadata": {},
   "outputs": [
    {
     "data": {
      "text/html": [
       "<style>#sk-container-id-5 {color: black;}#sk-container-id-5 pre{padding: 0;}#sk-container-id-5 div.sk-toggleable {background-color: white;}#sk-container-id-5 label.sk-toggleable__label {cursor: pointer;display: block;width: 100%;margin-bottom: 0;padding: 0.3em;box-sizing: border-box;text-align: center;}#sk-container-id-5 label.sk-toggleable__label-arrow:before {content: \"▸\";float: left;margin-right: 0.25em;color: #696969;}#sk-container-id-5 label.sk-toggleable__label-arrow:hover:before {color: black;}#sk-container-id-5 div.sk-estimator:hover label.sk-toggleable__label-arrow:before {color: black;}#sk-container-id-5 div.sk-toggleable__content {max-height: 0;max-width: 0;overflow: hidden;text-align: left;background-color: #f0f8ff;}#sk-container-id-5 div.sk-toggleable__content pre {margin: 0.2em;color: black;border-radius: 0.25em;background-color: #f0f8ff;}#sk-container-id-5 input.sk-toggleable__control:checked~div.sk-toggleable__content {max-height: 200px;max-width: 100%;overflow: auto;}#sk-container-id-5 input.sk-toggleable__control:checked~label.sk-toggleable__label-arrow:before {content: \"▾\";}#sk-container-id-5 div.sk-estimator input.sk-toggleable__control:checked~label.sk-toggleable__label {background-color: #d4ebff;}#sk-container-id-5 div.sk-label input.sk-toggleable__control:checked~label.sk-toggleable__label {background-color: #d4ebff;}#sk-container-id-5 input.sk-hidden--visually {border: 0;clip: rect(1px 1px 1px 1px);clip: rect(1px, 1px, 1px, 1px);height: 1px;margin: -1px;overflow: hidden;padding: 0;position: absolute;width: 1px;}#sk-container-id-5 div.sk-estimator {font-family: monospace;background-color: #f0f8ff;border: 1px dotted black;border-radius: 0.25em;box-sizing: border-box;margin-bottom: 0.5em;}#sk-container-id-5 div.sk-estimator:hover {background-color: #d4ebff;}#sk-container-id-5 div.sk-parallel-item::after {content: \"\";width: 100%;border-bottom: 1px solid gray;flex-grow: 1;}#sk-container-id-5 div.sk-label:hover label.sk-toggleable__label {background-color: #d4ebff;}#sk-container-id-5 div.sk-serial::before {content: \"\";position: absolute;border-left: 1px solid gray;box-sizing: border-box;top: 0;bottom: 0;left: 50%;z-index: 0;}#sk-container-id-5 div.sk-serial {display: flex;flex-direction: column;align-items: center;background-color: white;padding-right: 0.2em;padding-left: 0.2em;position: relative;}#sk-container-id-5 div.sk-item {position: relative;z-index: 1;}#sk-container-id-5 div.sk-parallel {display: flex;align-items: stretch;justify-content: center;background-color: white;position: relative;}#sk-container-id-5 div.sk-item::before, #sk-container-id-5 div.sk-parallel-item::before {content: \"\";position: absolute;border-left: 1px solid gray;box-sizing: border-box;top: 0;bottom: 0;left: 50%;z-index: -1;}#sk-container-id-5 div.sk-parallel-item {display: flex;flex-direction: column;z-index: 1;position: relative;background-color: white;}#sk-container-id-5 div.sk-parallel-item:first-child::after {align-self: flex-end;width: 50%;}#sk-container-id-5 div.sk-parallel-item:last-child::after {align-self: flex-start;width: 50%;}#sk-container-id-5 div.sk-parallel-item:only-child::after {width: 0;}#sk-container-id-5 div.sk-dashed-wrapped {border: 1px dashed gray;margin: 0 0.4em 0.5em 0.4em;box-sizing: border-box;padding-bottom: 0.4em;background-color: white;}#sk-container-id-5 div.sk-label label {font-family: monospace;font-weight: bold;display: inline-block;line-height: 1.2em;}#sk-container-id-5 div.sk-label-container {text-align: center;}#sk-container-id-5 div.sk-container {/* jupyter's `normalize.less` sets `[hidden] { display: none; }` but bootstrap.min.css set `[hidden] { display: none !important; }` so we also need the `!important` here to be able to override the default hidden behavior on the sphinx rendered scikit-learn.org. See: https://github.com/scikit-learn/scikit-learn/issues/21755 */display: inline-block !important;position: relative;}#sk-container-id-5 div.sk-text-repr-fallback {display: none;}</style><div id=\"sk-container-id-5\" class=\"sk-top-container\"><div class=\"sk-text-repr-fallback\"><pre>LogisticRegression(max_iter=1000)</pre><b>In a Jupyter environment, please rerun this cell to show the HTML representation or trust the notebook. <br />On GitHub, the HTML representation is unable to render, please try loading this page with nbviewer.org.</b></div><div class=\"sk-container\" hidden><div class=\"sk-item\"><div class=\"sk-estimator sk-toggleable\"><input class=\"sk-toggleable__control sk-hidden--visually\" id=\"sk-estimator-id-11\" type=\"checkbox\" checked><label for=\"sk-estimator-id-11\" class=\"sk-toggleable__label sk-toggleable__label-arrow\">LogisticRegression</label><div class=\"sk-toggleable__content\"><pre>LogisticRegression(max_iter=1000)</pre></div></div></div></div></div>"
      ],
      "text/plain": [
       "LogisticRegression(max_iter=1000)"
      ]
     },
     "execution_count": 166,
     "metadata": {},
     "output_type": "execute_result"
    }
   ],
   "source": [
    "# Treinar o modelo de Regressão Logística\n",
    "\n",
    "model = LogisticRegression(max_iter=1000)\n",
    "model.fit(X_train_processed, y_train)"
   ]
  },
  {
   "cell_type": "code",
   "execution_count": 167,
   "id": "2f837f9c",
   "metadata": {},
   "outputs": [],
   "source": [
    "# Import o dataset de test\n",
    "\n",
    "df_test = pd.read_csv(r'C:\\Users\\rayners\\Desktop\\Datasets\\Employee Atrittion\\test.csv')"
   ]
  },
  {
   "cell_type": "code",
   "execution_count": 187,
   "id": "98fc28fd",
   "metadata": {},
   "outputs": [],
   "source": [
    "# Drop Coluna Employee Id\n",
    "\n",
    "df_test.drop('Employee ID',axis=1,inplace=True)"
   ]
  },
  {
   "cell_type": "code",
   "execution_count": 188,
   "id": "f95b49b8",
   "metadata": {},
   "outputs": [],
   "source": [
    "# Separar features e target do dataset de teste\n",
    "\n",
    "X_test = df_test.drop(columns=['Attrition'])\n",
    "y_test = df_test['Attrition']\n"
   ]
  },
  {
   "cell_type": "code",
   "execution_count": 189,
   "id": "45469b42",
   "metadata": {},
   "outputs": [],
   "source": [
    "# Identificar colunas categóricas e colunas númericas do dataset de test\n",
    "\n",
    "categorical_features_test = X_test.select_dtypes(include=['object']).columns\n",
    "numerical_features_test = X_test.select_dtypes(include=['int64','float64']).columns"
   ]
  },
  {
   "cell_type": "code",
   "execution_count": 190,
   "id": "defc2e7b",
   "metadata": {},
   "outputs": [],
   "source": [
    "# Codificar variáveis categóricas do dataset de Test\n",
    "\n",
    "encoder = OneHotEncoder(drop='first', sparse=False)\n",
    "X_test_encoded = encoder.fit_transform(X_test[categorical_features])\n",
    "X_test_encoded_df = pd.DataFrame(X_test_encoded, columns=encoder.get_feature_names_out(categorical_features))\n",
    "X_test_processed = pd.concat([X_test.reset_index(drop=True).drop(columns=categorical_features),X_test_encoded_df], axis=1)"
   ]
  },
  {
   "cell_type": "code",
   "execution_count": 191,
   "id": "d457ba44",
   "metadata": {},
   "outputs": [],
   "source": [
    "# Normalizar variáveis númericas\n",
    "\n",
    "scaler = StandardScaler()\n",
    "X_test_processed[numerical_features] = scaler.fit_transform(X_test_processed[numerical_features])"
   ]
  },
  {
   "cell_type": "code",
   "execution_count": 193,
   "id": "fcda887a",
   "metadata": {},
   "outputs": [],
   "source": [
    "# Fazer previsões nos dados de teste\n",
    "\n",
    "y_pred = model.predict(X_test_processed)\n"
   ]
  },
  {
   "cell_type": "code",
   "execution_count": 194,
   "id": "7e8bcada",
   "metadata": {
    "scrolled": true
   },
   "outputs": [
    {
     "name": "stdout",
     "output_type": "stream",
     "text": [
      "Accuracy: 0.76\n",
      "              precision    recall  f1-score   support\n",
      "\n",
      "        Left       0.74      0.74      0.74      7032\n",
      "      Stayed       0.77      0.77      0.77      7868\n",
      "\n",
      "    accuracy                           0.76     14900\n",
      "   macro avg       0.75      0.75      0.75     14900\n",
      "weighted avg       0.76      0.76      0.76     14900\n",
      "\n"
     ]
    }
   ],
   "source": [
    "# Avaliar o modelo\n",
    "\n",
    "accuracy = accuracy_score(y_test, y_pred)\n",
    "print(f'Accuracy: {accuracy:.2f}')\n",
    "print(classification_report(y_test, y_pred))"
   ]
  },
  {
   "cell_type": "code",
   "execution_count": 195,
   "id": "8bd2d306",
   "metadata": {},
   "outputs": [
    {
     "data": {
      "image/png": "[encoded data removed]",
      "text/plain": [
       "<Figure size 640x480 with 2 Axes>"
      ]
     },
     "metadata": {},
     "output_type": "display_data"
    }
   ],
   "source": [
    "# Matriz de confusão\n",
    "\n",
    "mc = confusion_matrix(y_test, y_pred)\n",
    "disp = ConfusionMatrixDisplay(confusion_matrix=mc)\n",
    "disp.plot(cmap='Blues')\n",
    "plt.show()"
   ]
  }
 ],
 "metadata": {
  "kernelspec": {
   "display_name": "Python 3 (ipykernel)",
   "language": "python",
   "name": "python3"
  },
  "language_info": {
   "codemirror_mode": {
    "name": "ipython",
    "version": 3
   },
   "file_extension": ".py",
   "mimetype": "text/x-python",
   "name": "python",
   "nbconvert_exporter": "python",
   "pygments_lexer": "ipython3",
   "version": "3.11.4"
  }
 },
 "nbformat": 4,
 "nbformat_minor": 5
}
